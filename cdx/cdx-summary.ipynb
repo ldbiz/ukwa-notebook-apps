{
 "cells": [
  {
   "cell_type": "code",
   "execution_count": null,
   "metadata": {},
   "outputs": [],
   "source": [
    "from cdx.cdx_helper import cdx_scan, CRAWL_CDX\n",
    "\n",
    "total_bytes = 0\n",
    "i = 0\n",
    "\n",
    "for cdx in cdx_scan('https://www.bankofengland.co.uk/', cdx_service=CRAWL_CDX, limit=1000000):\n",
    "    if cdx.statuscode == '200':\n",
    "        total_bytes += int(cdx.length)\n",
    "        i += 1\n",
    "    if i%1000 == 0:\n",
    "        print(total_bytes)\n",
    "    #print(cdx.length, cdx.original, cdx.statuscode)"
   ]
  },
  {
   "cell_type": "code",
   "execution_count": null,
   "metadata": {},
   "outputs": [],
   "source": []
  }
 ],
 "metadata": {
  "kernelspec": {
   "display_name": "Python 3",
   "language": "python",
   "name": "python3"
  },
  "language_info": {
   "codemirror_mode": {
    "name": "ipython",
    "version": 3
   },
   "file_extension": ".py",
   "mimetype": "text/x-python",
   "name": "python",
   "nbconvert_exporter": "python",
   "pygments_lexer": "ipython3",
   "version": "3.7.3"
  }
 },
 "nbformat": 4,
 "nbformat_minor": 4
}
