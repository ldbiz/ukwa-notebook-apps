{
 "cells": [
  {
   "cell_type": "code",
   "execution_count": null,
   "metadata": {},
   "outputs": [],
   "source": [
    "!pip install hdfs"
   ]
  },
  {
   "cell_type": "code",
   "execution_count": null,
   "metadata": {},
   "outputs": [],
   "source": [
    "from cdx.cdx_helper import cdx_query\n",
    "from hdfs import InsecureClient\n",
    "import zlib\n",
    "\n",
    "def stream_gzip_decompress(stream):\n",
    "    dec = zlib.decompressobj(32 + zlib.MAX_WBITS)  # offset 32 to skip the header\n",
    "    for chunk in stream:\n",
    "        rv = dec.decompress(chunk)\n",
    "        if rv:\n",
    "            yield rv\n",
    "\n",
    "client = InsecureClient('http://hdfs.api.wa.bl.uk:80', user='access')\n",
    "\n",
    "for h in cdx_query(\"http://www.jisc.ac.uk/whatwedo/programmes/programme_preservation/2008sigprops.aspx\", limit=100):\n",
    "    print(h.filename, h.offset, h.length)\n",
    "    with client.read(h.filename, offset=h.offset, chunk_size=16*1024) as reader:\n",
    "        for unc in stream_gzip_decompress(reader):\n",
    "            print(unc.decode('utf-8'))\n",
    "            break\n",
    "    \n"
   ]
  },
  {
   "cell_type": "code",
   "execution_count": null,
   "metadata": {},
   "outputs": [],
   "source": []
  }
 ],
 "metadata": {
  "kernelspec": {
   "display_name": "Python 3",
   "language": "python",
   "name": "python3"
  },
  "language_info": {
   "codemirror_mode": {
    "name": "ipython",
    "version": 3
   },
   "file_extension": ".py",
   "mimetype": "text/x-python",
   "name": "python",
   "nbconvert_exporter": "python",
   "pygments_lexer": "ipython3",
   "version": "3.7.3"
  }
 },
 "nbformat": 4,
 "nbformat_minor": 4
}
