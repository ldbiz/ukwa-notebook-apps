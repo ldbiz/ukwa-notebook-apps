{
 "cells": [
  {
   "cell_type": "code",
   "execution_count": 1,
   "metadata": {},
   "outputs": [
    {
     "name": "stdout",
     "output_type": "stream",
     "text": [
      "Processing /home/anj/.cache/pip/wheels/fe/a7/05/23e3699975fc20f8a30e00ac1e515ab8c61168e982abe4ce70/hdfs-2.5.8-cp37-none-any.whl\n",
      "Processing /home/anj/.cache/pip/wheels/9b/04/dd/7daf4150b6d9b12949298737de9431a324d4b797ffd63f526e/docopt-0.6.2-py2.py3-none-any.whl\n",
      "Requirement already satisfied: six>=1.9.0 in /opt/conda/lib/python3.7/site-packages (from hdfs) (1.13.0)\n",
      "Requirement already satisfied: requests>=2.7.0 in /opt/conda/lib/python3.7/site-packages (from hdfs) (2.22.0)\n",
      "Requirement already satisfied: chardet<3.1.0,>=3.0.2 in /opt/conda/lib/python3.7/site-packages (from requests>=2.7.0->hdfs) (3.0.4)\n",
      "Requirement already satisfied: idna<2.9,>=2.5 in /opt/conda/lib/python3.7/site-packages (from requests>=2.7.0->hdfs) (2.8)\n",
      "Requirement already satisfied: urllib3!=1.25.0,!=1.25.1,<1.26,>=1.21.1 in /opt/conda/lib/python3.7/site-packages (from requests>=2.7.0->hdfs) (1.25.7)\n",
      "Requirement already satisfied: certifi>=2017.4.17 in /opt/conda/lib/python3.7/site-packages (from requests>=2.7.0->hdfs) (2019.11.28)\n",
      "Installing collected packages: docopt, hdfs\n",
      "Successfully installed docopt-0.6.2 hdfs-2.5.8\n"
     ]
    }
   ],
   "source": [
    "!pip install hdfs"
   ]
  },
  {
   "cell_type": "code",
   "execution_count": null,
   "metadata": {},
   "outputs": [
    {
     "name": "stdout",
     "output_type": "stream",
     "text": [
      "/heritrix/output/frequent-npld/20191203215907/warcs/BL-NPLD-20191207020008229-03586-75~npld-heritrix3-worker-1~8443.warc.gz 634600266 0\n"
     ]
    }
   ],
   "source": [
    "from cdx.cdx_helper import cdx_query\n",
    "from hdfs import InsecureClient\n",
    "import zlib\n",
    "\n",
    "def stream_gzip_decompress(stream):\n",
    "    dec = zlib.decompressobj(32 + zlib.MAX_WBITS)  # offset 32 to skip the header\n",
    "    for chunk in stream:\n",
    "        rv = dec.decompress(chunk)\n",
    "        if rv:\n",
    "            yield rv\n",
    "\n",
    "client = InsecureClient('http://hdfs.api.wa.bl.uk:80', user='access')\n",
    "\n",
    "for h in cdx_query(\"http://www.jisc.ac.uk/whatwedo/programmes/programme_preservation/2008sigprops.aspx\", limit=100):\n",
    "    print(h.filename, h.offset, h.length)\n",
    "    with client.read(h.filename, offset=h.offset, chunk_size=16*1024) as reader:\n",
    "        for unc in stream_gzip_decompress(reader):\n",
    "            print(unc.decode('utf-8'))\n",
    "            break\n",
    "    \n"
   ]
  },
  {
   "cell_type": "code",
   "execution_count": null,
   "metadata": {},
   "outputs": [],
   "source": []
  }
 ],
 "metadata": {
  "kernelspec": {
   "display_name": "Python 3",
   "language": "python",
   "name": "python3"
  },
  "language_info": {
   "codemirror_mode": {
    "name": "ipython",
    "version": 3
   },
   "file_extension": ".py",
   "mimetype": "text/x-python",
   "name": "python",
   "nbconvert_exporter": "python",
   "pygments_lexer": "ipython3",
   "version": "3.7.3"
  }
 },
 "nbformat": 4,
 "nbformat_minor": 4
}
