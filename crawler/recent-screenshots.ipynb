{
 "cells": [
  {
   "cell_type": "markdown",
   "metadata": {},
   "source": [
    "# Recent Screenshots\n"
   ]
  },
  {
   "cell_type": "code",
   "execution_count": 69,
   "metadata": {},
   "outputs": [
    {
     "data": {
      "text/html": [
       "<style>\n",
       ".thumbs {\n",
       "    background-color: #fff;\n",
       "    padding: 2px;\n",
       "}\n",
       ".thumbs_fullscreen {\n",
       "    position: fixed; \n",
       "    background:#fff; \n",
       "    left:0;\n",
       "    right:0;\n",
       "    top:0;\n",
       "    bottom:0;\n",
       "    z-index:1000;\n",
       "}\n",
       ".thumb {\n",
       "    display: inline-block;\n",
       "    width: 150px;\n",
       "    height: 150px;\n",
       "    background-color: #ffeeee;\n",
       "    background-position: center top;\n",
       "    background-repeat: no-repeat;\n",
       "    background-size: 100%,auto;\n",
       "    margin: 1px 6px 0 0;\n",
       "    border: 1px solid black;\n",
       "    padding: 0;\n",
       "}\n",
       "</style>\n"
      ],
      "text/plain": [
       "<IPython.core.display.HTML object>"
      ]
     },
     "metadata": {},
     "output_type": "display_data"
    }
   ],
   "source": [
    "%%HTML\n",
    "<style>\n",
    ".thumbs {\n",
    "    background-color: #fff;\n",
    "    padding: 2px;\n",
    "}\n",
    ".thumbs_fullscreen {\n",
    "    position: fixed; \n",
    "    background:#fff; \n",
    "    left:0;\n",
    "    right:0;\n",
    "    top:0;\n",
    "    bottom:0;\n",
    "    z-index:1000;\n",
    "}\n",
    ".thumb {\n",
    "    display: inline-block;\n",
    "    width: 150px;\n",
    "    height: 150px;\n",
    "    background-color: #ffeeee;\n",
    "    background-position: center top;\n",
    "    background-repeat: no-repeat;\n",
    "    background-size: 100%,auto;\n",
    "    margin: 1px 6px 0 0;\n",
    "    border: 1px solid black;\n",
    "    padding: 0;\n",
    "}\n",
    "</style>"
   ]
  },
  {
   "cell_type": "code",
   "execution_count": 70,
   "metadata": {},
   "outputs": [
    {
     "data": {
      "application/vnd.jupyter.widget-view+json": {
       "model_id": "2d2e21348eb0455f88f89b6623be1628",
       "version_major": 2,
       "version_minor": 0
      },
      "text/plain": [
       "Output()"
      ]
     },
     "metadata": {},
     "output_type": "display_data"
    }
   ],
   "source": [
    "import threading\n",
    "import os\n",
    "import re\n",
    "import requests\n",
    "import time\n",
    "import urllib.parse\n",
    "import datetime\n",
    "import ipywidgets as widgets\n",
    "from IPython.core.display import display, HTML, clear_output\n",
    "\n",
    "prefix = os.environ.get('API_PREFIX', 'https://beta.webarchive.org.uk')\n",
    "\n",
    "out = widgets.Output()\n",
    "# Now the key: the container is displayed (while empty) in the main thread\n",
    "display(out)\n",
    "\n",
    "try:\n",
    "    r = requests.get(prefix + \"/api/stats/crawl/recent-activity\", timeout=5 )\n",
    "except:\n",
    "    # Probably a time-out:\n",
    "    pass\n",
    "if r.status_code == 200:\n",
    "    html = '<div class=\"thumbs\">'\n",
    "    html += '<p>Updated at: %s</p><div>' % datetime.datetime.now()\n",
    "    for ss in r.json()['screenshots']:\n",
    "        params = {'url': ss[0], 'target_date': ss[1]}\n",
    "        datestamp = re.sub('[^0-9]','', ss[1])[0:14]\n",
    "        turl = \"https://www.webarchive.org.uk/act/wayback/archive/%sid_/thumbnail:%s\" % (datestamp,ss[0])\n",
    "        surl = ss[0]\n",
    "        html += '<a href=\"%s\" target=\"_blank\" class=\"thumb\" style=\"background-image: url(%s);\"></a>' % (surl,turl)\n",
    "    html += '</div>'\n",
    "    out.append_display_data(HTML(html))\n",
    "else:\n",
    "    out.append_display_data(HTML('ERROR at %s' % datetime.datetime.now()))\n",
    "\n"
   ]
  },
  {
   "cell_type": "code",
   "execution_count": null,
   "metadata": {},
   "outputs": [],
   "source": []
  },
  {
   "cell_type": "code",
   "execution_count": null,
   "metadata": {},
   "outputs": [],
   "source": []
  }
 ],
 "metadata": {
  "kernelspec": {
   "display_name": "Python 3",
   "language": "python",
   "name": "python3"
  },
  "language_info": {
   "codemirror_mode": {
    "name": "ipython",
    "version": 3
   },
   "file_extension": ".py",
   "mimetype": "text/x-python",
   "name": "python",
   "nbconvert_exporter": "python",
   "pygments_lexer": "ipython3",
   "version": "3.7.3"
  }
 },
 "nbformat": 4,
 "nbformat_minor": 4
}
