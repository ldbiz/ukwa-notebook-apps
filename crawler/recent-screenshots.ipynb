{
 "cells": [
  {
   "cell_type": "markdown",
   "metadata": {},
   "source": [
    "# Recent Screenshots\n"
   ]
  },
  {
   "cell_type": "code",
   "execution_count": null,
   "metadata": {},
   "outputs": [],
   "source": [
    "%%HTML\n",
    "<style>\n",
    "/* This content looks better centered: */\n",
    "body {\n",
    "    text-align: center !important;\n",
    "}\n",
    "/* This works on the 'material' template */\n",
    "main div.container {\n",
    "    width: 100% !important;\n",
    "    text-align: center !important;\n",
    "}\n",
    "/* And the actual components */\n",
    ".thumbs {\n",
    "    background-color: #fff;\n",
    "    padding: 2px;\n",
    "}\n",
    ".thumb {\n",
    "    display: inline-block;\n",
    "    width: 150px;\n",
    "    height: 150px;\n",
    "    background-color: #ffeeee;\n",
    "    background-position: center top;\n",
    "    background-repeat: no-repeat;\n",
    "    background-size: 100%,auto;\n",
    "    margin: 1px 6px 0 0;\n",
    "    border: 1px solid black;\n",
    "    padding: 0;\n",
    "}\n",
    "</style>"
   ]
  },
  {
   "cell_type": "code",
   "execution_count": 2,
   "metadata": {},
   "outputs": [
    {
     "data": {
      "application/vnd.jupyter.widget-view+json": {
       "model_id": "8d7ef6311f0f41868f18f2cbf1e37e32",
       "version_major": 2,
       "version_minor": 0
      },
      "text/plain": [
       "Output()"
      ]
     },
     "metadata": {},
     "output_type": "display_data"
    }
   ],
   "source": [
    "import threading\n",
    "import os\n",
    "import re\n",
    "import requests\n",
    "import time\n",
    "import urllib.parse\n",
    "import datetime\n",
    "import ipywidgets as widgets\n",
    "from IPython.core.display import display, HTML, clear_output\n",
    "\n",
    "api_prefix = os.environ.get('API_PREFIX', 'https://beta.webarchive.org.uk')\n",
    "wb_prefix = os.environ.get('WB_PREFIX', 'https://dev.webarchive.org.uk')\n",
    "\n",
    "out = widgets.Output()\n",
    "# Now the key: the container is displayed (while empty) in the main thread\n",
    "display(out)\n",
    "\n",
    "#try\n",
    "r = requests.get(api_prefix + \"/api/stats/crawl/recent-activity\", timeout=10 )\n",
    "#except:\n",
    "    # Needs handling properly!\n",
    "    # Probably a time-out:\n",
    "#    pass\n",
    "\n",
    "if r.status_code == 200:\n",
    "    html = '<div class=\"thumbs\">'\n",
    "    for ss in r.json()['screenshots']:\n",
    "        params = {'url': ss[0], 'target_date': ss[1]}\n",
    "        datestamp = re.sub('[^0-9]','', ss[1])[0:14]\n",
    "        turl = wb_prefix + \"/act/wayback/crawler/%sid_/thumbnail:%s\" % (datestamp,ss[0])\n",
    "        surl = wb_prefix + \"/act/wayback/crawler/%s/thumbnail:%s\" % (datestamp,ss[0])\n",
    "        #surl = ss[0]\n",
    "        html += '<a href=\"%s\" target=\"_blank\" class=\"thumb\" style=\"background-image: url(%s);\"></a>' % (surl,turl)\n",
    "    html += '</div>'\n",
    "    html += '<p>Updated at: %s</p' % datetime.datetime.now()\n",
    "    out.append_display_data(HTML(html))\n",
    "else:\n",
    "    out.append_display_data(HTML('ERROR at %s' % datetime.datetime.now()))\n",
    "    out.append_display_data(HTML('ERROR: %s' % r.text))\n"
   ]
  },
  {
   "cell_type": "code",
   "execution_count": null,
   "metadata": {},
   "outputs": [],
   "source": []
  },
  {
   "cell_type": "code",
   "execution_count": null,
   "metadata": {},
   "outputs": [],
   "source": []
  }
 ],
 "metadata": {
  "kernelspec": {
   "display_name": "Python 3",
   "language": "python",
   "name": "python3"
  },
  "language_info": {
   "codemirror_mode": {
    "name": "ipython",
    "version": 3
   },
   "file_extension": ".py",
   "mimetype": "text/x-python",
   "name": "python",
   "nbconvert_exporter": "python",
   "pygments_lexer": "ipython3",
   "version": "3.7.3"
  },
  "title": "Recent Screenshots"
 },
 "nbformat": 4,
 "nbformat_minor": 4
}
