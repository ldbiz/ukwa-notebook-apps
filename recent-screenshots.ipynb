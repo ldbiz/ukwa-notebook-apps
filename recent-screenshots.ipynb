{
 "cells": [
  {
   "cell_type": "markdown",
   "metadata": {},
   "source": [
    "# Recent Screenshots\n"
   ]
  },
  {
   "cell_type": "code",
   "execution_count": null,
   "metadata": {
    "scrolled": false
   },
   "outputs": [
    {
     "data": {
      "text/html": [
       "ERROR at 2020-03-03 16:24:53.289304"
      ],
      "text/plain": [
       "<IPython.core.display.HTML object>"
      ]
     },
     "metadata": {},
     "output_type": "display_data"
    }
   ],
   "source": [
    "import requests\n",
    "import time\n",
    "import urllib.parse\n",
    "import datetime\n",
    "from IPython.core.display import display, HTML, clear_output\n",
    "\n",
    "while True:\n",
    "    try:\n",
    "        r = requests.get(\"http://192.168.45.91:90/intranet/api/stats/crawler/recent-activity\", timeout=5 )\n",
    "    except:\n",
    "        # Probably a time-out:\n",
    "        pass\n",
    "    if r.status_code == 200:\n",
    "        display(HTML('<div>'))\n",
    "        html = '<div>'\n",
    "        for ss in r.json()['screenshots']:\n",
    "            params = {'url': ss[0], 'target_date': ss[1]}\n",
    "            url = \"http://192.168.45.91:90/intranet/api/screenshots/?\" + urllib.parse.urlencode(params)\n",
    "            html += '<a href=\"\" style=\"float: left;\"><img src=\"%s\" style=\"max-height:150px;\"/></a>' % url\n",
    "        html += '</div>'\n",
    "        display(HTML(html))\n",
    "    else:\n",
    "        display(HTML('ERROR at %s' % datetime.datetime.now()))\n",
    "        \n",
    "    clear_output(wait=True)\n",
    "    time.sleep(10)\n"
   ]
  }
 ],
 "metadata": {
  "kernelspec": {
   "display_name": "Python 3",
   "language": "python",
   "name": "python3"
  }
 },
 "nbformat": 4,
 "nbformat_minor": 2
}
