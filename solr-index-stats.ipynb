{
 "cells": [
  {
   "cell_type": "markdown",
   "metadata": {},
   "source": [
    "# Solr Query Stats"
   ]
  },
  {
   "cell_type": "code",
   "execution_count": 23,
   "metadata": {},
   "outputs": [
    {
     "output_type": "stream",
     "name": "stdout",
     "text": "{\"result-set\":{\"docs\":[{\"content_type_norm\":\"audio\",\"crawl_year\":1995,\"total\":6},{\"content_type_norm\":\"audio\",\"crawl_year\":2001,\"total\":26},{\"content_type_norm\":\"audio\",\"crawl_year\":2004,\"total\":595},{\"content_type_norm\":\"audio\",\"crawl_year\":2005,\"total\":5743},{\"content_type_norm\":\"audio\",\"crawl_year\":2006,\"total\":8638},{\"content_type_norm\":\"audio\",\"crawl_year\":2007,\"total\":11123},{\"content_type_norm\":\"audio\",\"crawl_year\":2008,\"total\":43226},{\"content_type_norm\":\"audio\",\"crawl_year\":2009,\"total\":65301},{\"content_type_norm\":\"audio\",\"crawl_year\":2010,\"total\":67908},{\"content_type_norm\":\"audio\",\"crawl_year\":2011,\"total\":73974},{\"content_type_norm\":\"audio\",\"crawl_year\":2012,\"total\":106091},{\"content_type_norm\":\"audio\",\"crawl_year\":2013,\"total\":59333},{\"content_type_norm\":\"audio\",\"crawl_year\":2014,\"total\":53606},{\"content_type_norm\":\"audio\",\"crawl_year\":2015,\"total\":34898},{\"content_type_norm\":\"audio\",\"crawl_year\":2016,\"total\":9798},{\"content_type_norm\":\"excel\",\"crawl_year\":2004,\"total\":8},\n"
    },
    {
     "output_type": "execute_result",
     "data": {
      "text/plain": "    content_type_norm  crawl_year  total\n0               audio        1995      6\n1               audio        2001     26\n2               audio        2004    595\n3               audio        2005   5743\n4               audio        2006   8638\n..                ...         ...    ...\n151              word        2012    450\n152              word        2013   1929\n153              word        2014   1058\n154              word        2015    189\n155              word        2016     17\n\n[156 rows x 3 columns]",
      "text/html": "<div>\n<style scoped>\n    .dataframe tbody tr th:only-of-type {\n        vertical-align: middle;\n    }\n\n    .dataframe tbody tr th {\n        vertical-align: top;\n    }\n\n    .dataframe thead th {\n        text-align: right;\n    }\n</style>\n<table border=\"1\" class=\"dataframe\">\n  <thead>\n    <tr style=\"text-align: right;\">\n      <th></th>\n      <th>content_type_norm</th>\n      <th>crawl_year</th>\n      <th>total</th>\n    </tr>\n  </thead>\n  <tbody>\n    <tr>\n      <th>0</th>\n      <td>audio</td>\n      <td>1995</td>\n      <td>6</td>\n    </tr>\n    <tr>\n      <th>1</th>\n      <td>audio</td>\n      <td>2001</td>\n      <td>26</td>\n    </tr>\n    <tr>\n      <th>2</th>\n      <td>audio</td>\n      <td>2004</td>\n      <td>595</td>\n    </tr>\n    <tr>\n      <th>3</th>\n      <td>audio</td>\n      <td>2005</td>\n      <td>5743</td>\n    </tr>\n    <tr>\n      <th>4</th>\n      <td>audio</td>\n      <td>2006</td>\n      <td>8638</td>\n    </tr>\n    <tr>\n      <th>...</th>\n      <td>...</td>\n      <td>...</td>\n      <td>...</td>\n    </tr>\n    <tr>\n      <th>151</th>\n      <td>word</td>\n      <td>2012</td>\n      <td>450</td>\n    </tr>\n    <tr>\n      <th>152</th>\n      <td>word</td>\n      <td>2013</td>\n      <td>1929</td>\n    </tr>\n    <tr>\n      <th>153</th>\n      <td>word</td>\n      <td>2014</td>\n      <td>1058</td>\n    </tr>\n    <tr>\n      <th>154</th>\n      <td>word</td>\n      <td>2015</td>\n      <td>189</td>\n    </tr>\n    <tr>\n      <th>155</th>\n      <td>word</td>\n      <td>2016</td>\n      <td>17</td>\n    </tr>\n  </tbody>\n</table>\n<p>156 rows × 3 columns</p>\n</div>"
     },
     "metadata": {},
     "execution_count": 23
    }
   ],
   "source": [
    "import requests\n",
    "import pandas as pd\n",
    "\n",
    "# Collections:\n",
    "#SOLR_URL = \"http://solr8.bapi.wa.bl.uk/solr/fc-2020-test/sql\"\n",
    "#COLLECTION = 'fc-2020-test'\n",
    "SOLR_URL = \"http://solr.api.wa.bl.uk/solr/all/sql\"\n",
    "COLLECTION = 'selective-20190221'\n",
    "\n",
    "s = {\n",
    "    # See https://lucene.apache.org/solr/guide/8_5/parallel-sql-interface.html#aggregation-modes\n",
    "    'aggregationMode ': 'facet',\n",
    "    # See https://lucene.apache.org/solr/guide/8_5/parallel-sql-interface.html\n",
    "    'stmt': \"SELECT content_type_norm, crawl_year, count(*) as total FROM `%s` GROUP BY content_type_norm, crawl_year HAVING count(*) > 2\" % COLLECTION\n",
    "}\n",
    "\n",
    "r = requests.post(SOLR_URL, data=s)\n",
    "\n",
    "print(r.text[0:1000])\n",
    "\n",
    "data = r.json()\n",
    "df = pd.DataFrame(data['result-set']['docs'][:-1])\n",
    "df"
   ]
  },
  {
   "cell_type": "code",
   "execution_count": 24,
   "metadata": {},
   "outputs": [
    {
     "output_type": "execute_result",
     "data": {
      "text/html": "\n<div id=\"altair-viz-2847b37c493047da80299ca5029a1d4a\"></div>\n<script type=\"text/javascript\">\n  (function(spec, embedOpt){\n    let outputDiv = document.currentScript.previousElementSibling;\n    if (outputDiv.id !== \"altair-viz-2847b37c493047da80299ca5029a1d4a\") {\n      outputDiv = document.getElementById(\"altair-viz-2847b37c493047da80299ca5029a1d4a\");\n    }\n    const paths = {\n      \"vega\": \"https://cdn.jsdelivr.net/npm//vega@5?noext\",\n      \"vega-lib\": \"https://cdn.jsdelivr.net/npm//vega-lib?noext\",\n      \"vega-lite\": \"https://cdn.jsdelivr.net/npm//vega-lite@4.8.1?noext\",\n      \"vega-embed\": \"https://cdn.jsdelivr.net/npm//vega-embed@6?noext\",\n    };\n\n    function loadScript(lib) {\n      return new Promise(function(resolve, reject) {\n        var s = document.createElement('script');\n        s.src = paths[lib];\n        s.async = true;\n        s.onload = () => resolve(paths[lib]);\n        s.onerror = () => reject(`Error loading script: ${paths[lib]}`);\n        document.getElementsByTagName(\"head\")[0].appendChild(s);\n      });\n    }\n\n    function showError(err) {\n      outputDiv.innerHTML = `<div class=\"error\" style=\"color:red;\">${err}</div>`;\n      throw err;\n    }\n\n    function displayChart(vegaEmbed) {\n      vegaEmbed(outputDiv, spec, embedOpt)\n        .catch(err => showError(`Javascript Error: ${err.message}<br>This usually means there's a typo in your chart specification. See the javascript console for the full traceback.`));\n    }\n\n    if(typeof define === \"function\" && define.amd) {\n      requirejs.config({paths});\n      require([\"vega-embed\"], displayChart, err => showError(`Error loading script: ${err.message}`));\n    } else if (typeof vegaEmbed === \"function\") {\n      displayChart(vegaEmbed);\n    } else {\n      loadScript(\"vega\")\n        .then(() => loadScript(\"vega-lite\"))\n        .then(() => loadScript(\"vega-embed\"))\n        .catch(showError)\n        .then(() => displayChart(vegaEmbed));\n    }\n  })({\"config\": {\"view\": {\"continuousWidth\": 400, \"continuousHeight\": 300}}, \"data\": {\"name\": \"data-472b4f4f4e0299f1dbc792477aaacdc7\"}, \"mark\": \"bar\", \"encoding\": {\"color\": {\"type\": \"nominal\", \"field\": \"content_type_norm\"}, \"tooltip\": [{\"type\": \"nominal\", \"field\": \"content_type_norm\"}, {\"type\": \"quantitative\", \"field\": \"total\"}, {\"type\": \"quantitative\", \"field\": \"crawl_year\"}], \"x\": {\"type\": \"nominal\", \"field\": \"crawl_year\"}, \"y\": {\"type\": \"quantitative\", \"field\": \"total\", \"stack\": \"normalize\"}}, \"$schema\": \"https://vega.github.io/schema/vega-lite/v4.8.1.json\", \"datasets\": {\"data-472b4f4f4e0299f1dbc792477aaacdc7\": [{\"content_type_norm\": \"audio\", \"crawl_year\": 1995, \"total\": 6}, {\"content_type_norm\": \"audio\", \"crawl_year\": 2001, \"total\": 26}, {\"content_type_norm\": \"audio\", \"crawl_year\": 2004, \"total\": 595}, {\"content_type_norm\": \"audio\", \"crawl_year\": 2005, \"total\": 5743}, {\"content_type_norm\": \"audio\", \"crawl_year\": 2006, \"total\": 8638}, {\"content_type_norm\": \"audio\", \"crawl_year\": 2007, \"total\": 11123}, {\"content_type_norm\": \"audio\", \"crawl_year\": 2008, \"total\": 43226}, {\"content_type_norm\": \"audio\", \"crawl_year\": 2009, \"total\": 65301}, {\"content_type_norm\": \"audio\", \"crawl_year\": 2010, \"total\": 67908}, {\"content_type_norm\": \"audio\", \"crawl_year\": 2011, \"total\": 73974}, {\"content_type_norm\": \"audio\", \"crawl_year\": 2012, \"total\": 106091}, {\"content_type_norm\": \"audio\", \"crawl_year\": 2013, \"total\": 59333}, {\"content_type_norm\": \"audio\", \"crawl_year\": 2014, \"total\": 53606}, {\"content_type_norm\": \"audio\", \"crawl_year\": 2015, \"total\": 34898}, {\"content_type_norm\": \"audio\", \"crawl_year\": 2016, \"total\": 9798}, {\"content_type_norm\": \"excel\", \"crawl_year\": 2004, \"total\": 8}, {\"content_type_norm\": \"excel\", \"crawl_year\": 2005, \"total\": 120}, {\"content_type_norm\": \"excel\", \"crawl_year\": 2006, \"total\": 138}, {\"content_type_norm\": \"excel\", \"crawl_year\": 2007, \"total\": 85}, {\"content_type_norm\": \"excel\", \"crawl_year\": 2008, \"total\": 53}, {\"content_type_norm\": \"excel\", \"crawl_year\": 2009, \"total\": 12}, {\"content_type_norm\": \"excel\", \"crawl_year\": 2010, \"total\": 10}, {\"content_type_norm\": \"excel\", \"crawl_year\": 2011, \"total\": 25}, {\"content_type_norm\": \"excel\", \"crawl_year\": 2012, \"total\": 14}, {\"content_type_norm\": \"excel\", \"crawl_year\": 2013, \"total\": 126}, {\"content_type_norm\": \"excel\", \"crawl_year\": 2014, \"total\": 20}, {\"content_type_norm\": \"excel\", \"crawl_year\": 2015, \"total\": 15}, {\"content_type_norm\": \"excel\", \"crawl_year\": 2016, \"total\": 5}, {\"content_type_norm\": \"html\", \"crawl_year\": 1995, \"total\": 55}, {\"content_type_norm\": \"html\", \"crawl_year\": 2001, \"total\": 7561}, {\"content_type_norm\": \"html\", \"crawl_year\": 2002, \"total\": 8178}, {\"content_type_norm\": \"html\", \"crawl_year\": 2003, \"total\": 6764}, {\"content_type_norm\": \"html\", \"crawl_year\": 2004, \"total\": 504601}, {\"content_type_norm\": \"html\", \"crawl_year\": 2005, \"total\": 7244888}, {\"content_type_norm\": \"html\", \"crawl_year\": 2006, \"total\": 8575208}, {\"content_type_norm\": \"html\", \"crawl_year\": 2007, \"total\": 8395914}, {\"content_type_norm\": \"html\", \"crawl_year\": 2008, \"total\": 23836396}, {\"content_type_norm\": \"html\", \"crawl_year\": 2009, \"total\": 29758463}, {\"content_type_norm\": \"html\", \"crawl_year\": 2010, \"total\": 33391173}, {\"content_type_norm\": \"html\", \"crawl_year\": 2011, \"total\": 37742256}, {\"content_type_norm\": \"html\", \"crawl_year\": 2012, \"total\": 51383793}, {\"content_type_norm\": \"html\", \"crawl_year\": 2013, \"total\": 40172097}, {\"content_type_norm\": \"html\", \"crawl_year\": 2014, \"total\": 29354593}, {\"content_type_norm\": \"html\", \"crawl_year\": 2015, \"total\": 20471004}, {\"content_type_norm\": \"html\", \"crawl_year\": 2016, \"total\": 2772610}, {\"content_type_norm\": \"image\", \"crawl_year\": 415, \"total\": 31}, {\"content_type_norm\": \"image\", \"crawl_year\": 613, \"total\": 3}, {\"content_type_norm\": \"image\", \"crawl_year\": 1995, \"total\": 98}, {\"content_type_norm\": \"image\", \"crawl_year\": 2001, \"total\": 8215}, {\"content_type_norm\": \"image\", \"crawl_year\": 2002, \"total\": 6355}, {\"content_type_norm\": \"image\", \"crawl_year\": 2003, \"total\": 6508}, {\"content_type_norm\": \"image\", \"crawl_year\": 2004, \"total\": 276619}, {\"content_type_norm\": \"image\", \"crawl_year\": 2005, \"total\": 1572487}, {\"content_type_norm\": \"image\", \"crawl_year\": 2006, \"total\": 1929088}, {\"content_type_norm\": \"image\", \"crawl_year\": 2007, \"total\": 2020186}, {\"content_type_norm\": \"image\", \"crawl_year\": 2008, \"total\": 7546807}, {\"content_type_norm\": \"image\", \"crawl_year\": 2009, \"total\": 11869065}, {\"content_type_norm\": \"image\", \"crawl_year\": 2010, \"total\": 13113682}, {\"content_type_norm\": \"image\", \"crawl_year\": 2011, \"total\": 14522203}, {\"content_type_norm\": \"image\", \"crawl_year\": 2012, \"total\": 19887138}, {\"content_type_norm\": \"image\", \"crawl_year\": 2013, \"total\": 11326587}, {\"content_type_norm\": \"image\", \"crawl_year\": 2014, \"total\": 8356539}, {\"content_type_norm\": \"image\", \"crawl_year\": 2015, \"total\": 8861390}, {\"content_type_norm\": \"image\", \"crawl_year\": 2016, \"total\": 1415726}, {\"content_type_norm\": \"other\", \"crawl_year\": 1995, \"total\": 4}, {\"content_type_norm\": \"other\", \"crawl_year\": 2001, \"total\": 119}, {\"content_type_norm\": \"other\", \"crawl_year\": 2002, \"total\": 99}, {\"content_type_norm\": \"other\", \"crawl_year\": 2003, \"total\": 176}, {\"content_type_norm\": \"other\", \"crawl_year\": 2004, \"total\": 16542}, {\"content_type_norm\": \"other\", \"crawl_year\": 2005, \"total\": 203897}, {\"content_type_norm\": \"other\", \"crawl_year\": 2006, \"total\": 238624}, {\"content_type_norm\": \"other\", \"crawl_year\": 2007, \"total\": 269265}, {\"content_type_norm\": \"other\", \"crawl_year\": 2008, \"total\": 1465679}, {\"content_type_norm\": \"other\", \"crawl_year\": 2009, \"total\": 1651663}, {\"content_type_norm\": \"other\", \"crawl_year\": 2010, \"total\": 1881109}, {\"content_type_norm\": \"other\", \"crawl_year\": 2011, \"total\": 1423785}, {\"content_type_norm\": \"other\", \"crawl_year\": 2012, \"total\": 2125192}, {\"content_type_norm\": \"other\", \"crawl_year\": 2013, \"total\": 1823338}, {\"content_type_norm\": \"other\", \"crawl_year\": 2014, \"total\": 956245}, {\"content_type_norm\": \"other\", \"crawl_year\": 2015, \"total\": 1461134}, {\"content_type_norm\": \"other\", \"crawl_year\": 2016, \"total\": 275520}, {\"content_type_norm\": \"pdf\", \"crawl_year\": 513, \"total\": 8}, {\"content_type_norm\": \"pdf\", \"crawl_year\": 2001, \"total\": 495}, {\"content_type_norm\": \"pdf\", \"crawl_year\": 2002, \"total\": 940}, {\"content_type_norm\": \"pdf\", \"crawl_year\": 2003, \"total\": 452}, {\"content_type_norm\": \"pdf\", \"crawl_year\": 2004, \"total\": 80981}, {\"content_type_norm\": \"pdf\", \"crawl_year\": 2005, \"total\": 524614}, {\"content_type_norm\": \"pdf\", \"crawl_year\": 2006, \"total\": 560650}, {\"content_type_norm\": \"pdf\", \"crawl_year\": 2007, \"total\": 460203}, {\"content_type_norm\": \"pdf\", \"crawl_year\": 2008, \"total\": 1572377}, {\"content_type_norm\": \"pdf\", \"crawl_year\": 2009, \"total\": 2148759}, {\"content_type_norm\": \"pdf\", \"crawl_year\": 2010, \"total\": 2418711}, {\"content_type_norm\": \"pdf\", \"crawl_year\": 2011, \"total\": 2674009}, {\"content_type_norm\": \"pdf\", \"crawl_year\": 2012, \"total\": 3049443}, {\"content_type_norm\": \"pdf\", \"crawl_year\": 2013, \"total\": 2898228}, {\"content_type_norm\": \"pdf\", \"crawl_year\": 2014, \"total\": 1250225}, {\"content_type_norm\": \"pdf\", \"crawl_year\": 2015, \"total\": 955041}, {\"content_type_norm\": \"pdf\", \"crawl_year\": 2016, \"total\": 82503}, {\"content_type_norm\": \"powerpoint\", \"crawl_year\": 2004, \"total\": 16}, {\"content_type_norm\": \"powerpoint\", \"crawl_year\": 2005, \"total\": 69}, {\"content_type_norm\": \"powerpoint\", \"crawl_year\": 2006, \"total\": 186}, {\"content_type_norm\": \"powerpoint\", \"crawl_year\": 2007, \"total\": 168}, {\"content_type_norm\": \"powerpoint\", \"crawl_year\": 2008, \"total\": 94}, {\"content_type_norm\": \"powerpoint\", \"crawl_year\": 2009, \"total\": 53}, {\"content_type_norm\": \"powerpoint\", \"crawl_year\": 2010, \"total\": 95}, {\"content_type_norm\": \"powerpoint\", \"crawl_year\": 2011, \"total\": 150}, {\"content_type_norm\": \"powerpoint\", \"crawl_year\": 2012, \"total\": 147}, {\"content_type_norm\": \"powerpoint\", \"crawl_year\": 2013, \"total\": 236}, {\"content_type_norm\": \"powerpoint\", \"crawl_year\": 2014, \"total\": 172}, {\"content_type_norm\": \"powerpoint\", \"crawl_year\": 2015, \"total\": 65}, {\"content_type_norm\": \"powerpoint\", \"crawl_year\": 2016, \"total\": 4}, {\"content_type_norm\": \"text\", \"crawl_year\": 1419, \"total\": 3}, {\"content_type_norm\": \"text\", \"crawl_year\": 1995, \"total\": 5}, {\"content_type_norm\": \"text\", \"crawl_year\": 2001, \"total\": 349}, {\"content_type_norm\": \"text\", \"crawl_year\": 2002, \"total\": 166}, {\"content_type_norm\": \"text\", \"crawl_year\": 2003, \"total\": 115}, {\"content_type_norm\": \"text\", \"crawl_year\": 2004, \"total\": 3703}, {\"content_type_norm\": \"text\", \"crawl_year\": 2005, \"total\": 72050}, {\"content_type_norm\": \"text\", \"crawl_year\": 2006, \"total\": 56717}, {\"content_type_norm\": \"text\", \"crawl_year\": 2007, \"total\": 128472}, {\"content_type_norm\": \"text\", \"crawl_year\": 2008, \"total\": 377048}, {\"content_type_norm\": \"text\", \"crawl_year\": 2009, \"total\": 413810}, {\"content_type_norm\": \"text\", \"crawl_year\": 2010, \"total\": 367400}, {\"content_type_norm\": \"text\", \"crawl_year\": 2011, \"total\": 228795}, {\"content_type_norm\": \"text\", \"crawl_year\": 2012, \"total\": 428717}, {\"content_type_norm\": \"text\", \"crawl_year\": 2013, \"total\": 336980}, {\"content_type_norm\": \"text\", \"crawl_year\": 2014, \"total\": 147153}, {\"content_type_norm\": \"text\", \"crawl_year\": 2015, \"total\": 303601}, {\"content_type_norm\": \"text\", \"crawl_year\": 2016, \"total\": 70686}, {\"content_type_norm\": \"video\", \"crawl_year\": 2001, \"total\": 4}, {\"content_type_norm\": \"video\", \"crawl_year\": 2004, \"total\": 1203}, {\"content_type_norm\": \"video\", \"crawl_year\": 2005, \"total\": 11645}, {\"content_type_norm\": \"video\", \"crawl_year\": 2006, \"total\": 6887}, {\"content_type_norm\": \"video\", \"crawl_year\": 2007, \"total\": 8034}, {\"content_type_norm\": \"video\", \"crawl_year\": 2008, \"total\": 20911}, {\"content_type_norm\": \"video\", \"crawl_year\": 2009, \"total\": 23431}, {\"content_type_norm\": \"video\", \"crawl_year\": 2010, \"total\": 21806}, {\"content_type_norm\": \"video\", \"crawl_year\": 2011, \"total\": 20305}, {\"content_type_norm\": \"video\", \"crawl_year\": 2012, \"total\": 19235}, {\"content_type_norm\": \"video\", \"crawl_year\": 2013, \"total\": 12727}, {\"content_type_norm\": \"video\", \"crawl_year\": 2014, \"total\": 6631}, {\"content_type_norm\": \"video\", \"crawl_year\": 2015, \"total\": 5407}, {\"content_type_norm\": \"video\", \"crawl_year\": 2016, \"total\": 551}, {\"content_type_norm\": \"word\", \"crawl_year\": 2004, \"total\": 179}, {\"content_type_norm\": \"word\", \"crawl_year\": 2005, \"total\": 1211}, {\"content_type_norm\": \"word\", \"crawl_year\": 2006, \"total\": 634}, {\"content_type_norm\": \"word\", \"crawl_year\": 2007, \"total\": 395}, {\"content_type_norm\": \"word\", \"crawl_year\": 2008, \"total\": 379}, {\"content_type_norm\": \"word\", \"crawl_year\": 2009, \"total\": 422}, {\"content_type_norm\": \"word\", \"crawl_year\": 2010, \"total\": 665}, {\"content_type_norm\": \"word\", \"crawl_year\": 2011, \"total\": 716}, {\"content_type_norm\": \"word\", \"crawl_year\": 2012, \"total\": 450}, {\"content_type_norm\": \"word\", \"crawl_year\": 2013, \"total\": 1929}, {\"content_type_norm\": \"word\", \"crawl_year\": 2014, \"total\": 1058}, {\"content_type_norm\": \"word\", \"crawl_year\": 2015, \"total\": 189}, {\"content_type_norm\": \"word\", \"crawl_year\": 2016, \"total\": 17}]}}, {\"mode\": \"vega-lite\"});\n</script>",
      "text/plain": "alt.Chart(...)"
     },
     "metadata": {},
     "execution_count": 24
    }
   ],
   "source": [
    "import altair as alt\n",
    "\n",
    "alt.Chart(df).mark_bar().encode(\n",
    "    x='crawl_year:N',\n",
    "    y= alt.Y('total:Q', stack=\"normalize\"),\n",
    "    color='content_type_norm:N',\n",
    "    tooltip=['content_type_norm', 'total', 'crawl_year']\n",
    ")"
   ]
  },
  {
   "cell_type": "code",
   "execution_count": null,
   "metadata": {},
   "outputs": [],
   "source": []
  }
 ],
 "metadata": {
  "kernelspec": {
   "display_name": "Python 3",
   "language": "python",
   "name": "python3"
  },
  "language_info": {
   "codemirror_mode": {
    "name": "ipython",
    "version": 3
   },
   "file_extension": ".py",
   "mimetype": "text/x-python",
   "name": "python",
   "nbconvert_exporter": "python",
   "pygments_lexer": "ipython3",
   "version": "3.8.2-final"
  }
 },
 "nbformat": 4,
 "nbformat_minor": 2
}