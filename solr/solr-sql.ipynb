{
 "cells": [
  {
   "cell_type": "markdown",
   "metadata": {},
   "source": [
    "Experimenting with Solr SQL\n",
    "===========================\n",
    "\n",
    "This notebook is for experimenting with Solr's Parallel SQL interface, especially via an SQLAlchemy plugin so that it's exactly like normal SQL.\n",
    "\n",
    "Unfortunatley, current state of play is that Solr 6 does not cope with SQL queries on _aliases_, so it's not much use for text analysis right now.\n",
    "\n",
    "The SQL system does work okay for Solr 8, but the `SELECT *` logic seems to be a bit brittle (at least via the SQLAlchemy module).  It works pretty reliably if the fields are explicitly enumerated."
   ]
  },
  {
   "cell_type": "code",
   "execution_count": 1,
   "metadata": {},
   "outputs": [
    {
     "name": "stdout",
     "output_type": "stream",
     "text": [
      "Requirement already satisfied: sqlalchemy-solr in /opt/conda/lib/python3.7/site-packages (0.2.0)\n",
      "Requirement already satisfied: numpy in /opt/conda/lib/python3.7/site-packages (from sqlalchemy-solr) (1.17.3)\n",
      "Requirement already satisfied: requests in /opt/conda/lib/python3.7/site-packages (from sqlalchemy-solr) (2.22.0)\n",
      "Requirement already satisfied: sqlalchemy in /opt/conda/lib/python3.7/site-packages (from sqlalchemy-solr) (1.3.11)\n",
      "Requirement already satisfied: pandas in /opt/conda/lib/python3.7/site-packages (from sqlalchemy-solr) (0.25.3)\n",
      "Requirement already satisfied: chardet<3.1.0,>=3.0.2 in /opt/conda/lib/python3.7/site-packages (from requests->sqlalchemy-solr) (3.0.4)\n",
      "Requirement already satisfied: idna<2.9,>=2.5 in /opt/conda/lib/python3.7/site-packages (from requests->sqlalchemy-solr) (2.8)\n",
      "Requirement already satisfied: certifi>=2017.4.17 in /opt/conda/lib/python3.7/site-packages (from requests->sqlalchemy-solr) (2019.11.28)\n",
      "Requirement already satisfied: urllib3!=1.25.0,!=1.25.1,<1.26,>=1.21.1 in /opt/conda/lib/python3.7/site-packages (from requests->sqlalchemy-solr) (1.25.7)\n",
      "Requirement already satisfied: python-dateutil>=2.6.1 in /opt/conda/lib/python3.7/site-packages (from pandas->sqlalchemy-solr) (2.8.1)\n",
      "Requirement already satisfied: pytz>=2017.2 in /opt/conda/lib/python3.7/site-packages (from pandas->sqlalchemy-solr) (2019.3)\n",
      "Requirement already satisfied: six>=1.5 in /opt/conda/lib/python3.7/site-packages (from python-dateutil>=2.6.1->pandas->sqlalchemy-solr) (1.13.0)\n"
     ]
    }
   ],
   "source": [
    "!pip install sqlalchemy-solr"
   ]
  },
  {
   "cell_type": "code",
   "execution_count": 29,
   "metadata": {},
   "outputs": [
    {
     "name": "stdout",
     "output_type": "stream",
     "text": [
      "************************************\n",
      "Query: SELECT id,url FROM `NPLD-FC2017-20190228` LIMIT 1\n",
      "************************************\n",
      "id 20171225120530/r1upsuMttEfpjRI2R4rN7Q==\n",
      "url http://www.newquayvoice.co.uk/news/5/article/2920/\n",
      "************************************\n",
      "Catched StopIteration in fetchone\n",
      "************************************\n"
     ]
    }
   ],
   "source": [
    "from sqlalchemy import create_engine\n",
    "\n",
    "engine = create_engine('solr://solr.api.wa.bl.uk:80/solr/fc')\n",
    "\n",
    "# Unfortunately, for Solr 6, we can't query aliases and all fields * leads to class cast exceptions!\n",
    "# (java.lang.Long cannot be cast to java.lang.String)\n",
    "rows = engine.execute(\"SELECT id,url FROM `NPLD-FC2017-20190228` LIMIT 1\")\n",
    "\n",
    "for r in rows:\n",
    "    for column, value in r.items():\n",
    "        print(column, value)\n"
   ]
  },
  {
   "cell_type": "code",
   "execution_count": 1,
   "metadata": {},
   "outputs": [],
   "source": [
    "import pandas as pd\n",
    "from sqlalchemy import create_engine\n",
    "\n",
    "# Only create this engine once per kernel session, or things get confuse (?)\n",
    "engine = create_engine('solr://solr8.api.wa.bl.uk:80/solr/tracking',echo=False)\n",
    "\n"
   ]
  },
  {
   "cell_type": "code",
   "execution_count": 11,
   "metadata": {},
   "outputs": [
    {
     "name": "stdout",
     "output_type": "stream",
     "text": [
      "************************************\n",
      "Query: SELECT id,timestamp_dt FROM tracking WHERE kind_s = 'warcs' LIMIT 2\n",
      "************************************\n"
     ]
    },
    {
     "data": {
      "text/html": [
       "<div>\n",
       "<style scoped>\n",
       "    .dataframe tbody tr th:only-of-type {\n",
       "        vertical-align: middle;\n",
       "    }\n",
       "\n",
       "    .dataframe tbody tr th {\n",
       "        vertical-align: top;\n",
       "    }\n",
       "\n",
       "    .dataframe thead th {\n",
       "        text-align: right;\n",
       "    }\n",
       "</style>\n",
       "<table border=\"1\" class=\"dataframe\">\n",
       "  <thead>\n",
       "    <tr style=\"text-align: right;\">\n",
       "      <th></th>\n",
       "      <th>id</th>\n",
       "      <th>timestamp_dt</th>\n",
       "    </tr>\n",
       "  </thead>\n",
       "  <tbody>\n",
       "    <tr>\n",
       "      <th>0</th>\n",
       "      <td>hdfs://hdfs:54310/1_data/npld/webrecorder/bl-y...</td>\n",
       "      <td>2016-12-30 11:59:00</td>\n",
       "    </tr>\n",
       "    <tr>\n",
       "      <th>1</th>\n",
       "      <td>hdfs://hdfs:54310/1_data/npld/webrecorder/bl-y...</td>\n",
       "      <td>2016-12-30 11:59:00</td>\n",
       "    </tr>\n",
       "  </tbody>\n",
       "</table>\n",
       "</div>"
      ],
      "text/plain": [
       "                                                  id        timestamp_dt\n",
       "0  hdfs://hdfs:54310/1_data/npld/webrecorder/bl-y... 2016-12-30 11:59:00\n",
       "1  hdfs://hdfs:54310/1_data/npld/webrecorder/bl-y... 2016-12-30 11:59:00"
      ]
     },
     "execution_count": 11,
     "metadata": {},
     "output_type": "execute_result"
    }
   ],
   "source": [
    "#rows = engine.execute(\"SELECT * FROM tracking LIMIT 10\")\n",
    "\n",
    "# Note that SELECT * can get a bit wonky when requesting multiple documents, best to be explicit:\n",
    "sql_df = pd.read_sql_query(\n",
    "    \"SELECT id,timestamp_dt FROM tracking WHERE kind_s = 'warcs' LIMIT 2\",\n",
    "    con=engine\n",
    ")\n",
    "\n",
    "sql_df"
   ]
  },
  {
   "cell_type": "code",
   "execution_count": null,
   "metadata": {},
   "outputs": [],
   "source": []
  }
 ],
 "metadata": {
  "kernelspec": {
   "display_name": "Python 3",
   "language": "python",
   "name": "python3"
  },
  "language_info": {
   "codemirror_mode": {
    "name": "ipython",
    "version": 3
   },
   "file_extension": ".py",
   "mimetype": "text/x-python",
   "name": "python",
   "nbconvert_exporter": "python",
   "pygments_lexer": "ipython3",
   "version": "3.7.3"
  }
 },
 "nbformat": 4,
 "nbformat_minor": 4
}
