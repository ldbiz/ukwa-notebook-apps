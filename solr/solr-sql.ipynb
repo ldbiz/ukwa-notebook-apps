{
 "cells": [
  {
   "cell_type": "markdown",
   "metadata": {},
   "source": [
    "Experimenting with Solr SQL\n",
    "===========================\n",
    "\n",
    "This notebook is for experimenting with Solr's Parallel SQL interface, especially via an SQLAlchemy plugin so that it's exactly like normal SQL.\n",
    "\n",
    "Unfortunatley, current state of play is that Solr 6 does not cope with SQL queries on _aliases_, so it's not much use for text analysis right now.\n",
    "\n",
    "The SQL system does work okay for Solr 8, but the `SELECT *` logic seems to be a bit brittle (at least via the SQLAlchemy module).  It works pretty reliably if the fields are explicitly enumerated."
   ]
  },
  {
   "cell_type": "code",
   "execution_count": 1,
   "metadata": {},
   "outputs": [
    {
     "name": "stdout",
     "output_type": "stream",
     "text": [
      "Requirement already satisfied: sqlalchemy-solr in /opt/conda/lib/python3.7/site-packages (0.2.0)\n",
      "Requirement already satisfied: numpy in /opt/conda/lib/python3.7/site-packages (from sqlalchemy-solr) (1.17.3)\n",
      "Requirement already satisfied: requests in /opt/conda/lib/python3.7/site-packages (from sqlalchemy-solr) (2.22.0)\n",
      "Requirement already satisfied: sqlalchemy in /opt/conda/lib/python3.7/site-packages (from sqlalchemy-solr) (1.3.11)\n",
      "Requirement already satisfied: pandas in /opt/conda/lib/python3.7/site-packages (from sqlalchemy-solr) (0.25.3)\n",
      "Requirement already satisfied: chardet<3.1.0,>=3.0.2 in /opt/conda/lib/python3.7/site-packages (from requests->sqlalchemy-solr) (3.0.4)\n",
      "Requirement already satisfied: idna<2.9,>=2.5 in /opt/conda/lib/python3.7/site-packages (from requests->sqlalchemy-solr) (2.8)\n",
      "Requirement already satisfied: certifi>=2017.4.17 in /opt/conda/lib/python3.7/site-packages (from requests->sqlalchemy-solr) (2019.11.28)\n",
      "Requirement already satisfied: urllib3!=1.25.0,!=1.25.1,<1.26,>=1.21.1 in /opt/conda/lib/python3.7/site-packages (from requests->sqlalchemy-solr) (1.25.7)\n",
      "Requirement already satisfied: python-dateutil>=2.6.1 in /opt/conda/lib/python3.7/site-packages (from pandas->sqlalchemy-solr) (2.8.1)\n",
      "Requirement already satisfied: pytz>=2017.2 in /opt/conda/lib/python3.7/site-packages (from pandas->sqlalchemy-solr) (2019.3)\n",
      "Requirement already satisfied: six>=1.5 in /opt/conda/lib/python3.7/site-packages (from python-dateutil>=2.6.1->pandas->sqlalchemy-solr) (1.13.0)\n"
     ]
    }
   ],
   "source": [
    "!pip install sqlalchemy-solr"
   ]
  },
  {
   "cell_type": "code",
   "execution_count": 42,
   "metadata": {},
   "outputs": [
    {
     "name": "stdout",
     "output_type": "stream",
     "text": [
      "************************************\n",
      "Query: SELECT id,url,wayback_date FROM `NPLD-FC2017-20190228` LIMIT 1\n",
      "************************************\n",
      "id 20171225120530/r1upsuMttEfpjRI2R4rN7Q==\n",
      "url http://www.newquayvoice.co.uk/news/5/article/2920/\n",
      "wayback_date 20171225120530\n",
      "************************************\n",
      "Catched StopIteration in fetchone\n",
      "************************************\n"
     ]
    }
   ],
   "source": [
    "from sqlalchemy import create_engine\n",
    "\n",
    "fc = 'NPLD-FC2017-20190228'\n",
    "\n",
    "engine = create_engine('solr://solr.api.wa.bl.uk:80/solr/%s' % fc)\n",
    "\n",
    "# Unfortunately, for Solr 6, we can't query aliases and all fields * leads to class cast exceptions!\n",
    "# (java.lang.Long cannot be cast to java.lang.String)\n",
    "rows = engine.execute(\"SELECT id,url,wayback_date FROM `%s` LIMIT 1\" % fc)\n",
    "\n",
    "for r in rows:\n",
    "    for column, value in r.items():\n",
    "        print(column, value)\n"
   ]
  },
  {
   "cell_type": "code",
   "execution_count": 21,
   "metadata": {},
   "outputs": [
    {
     "name": "stdout",
     "output_type": "stream",
     "text": [
      "************************************\n",
      "Query: SELECT id,url,title,host FROM `NPLD-FC2017-20190228` WHERE host = '(theguardian.com independent.co.uk dailymail.co.uk express.co.uk thesun.co.uk mirror.co.uk dailystar.co.uk)' AND ((title = 'meghan' AND title = 'markle') OR (title = 'meghan' AND title = 'harry')) ORDER BY crawl_date LIMIT 1\n",
      "************************************\n",
      "id 20170101102033/lhGw4C4wmG+0iFG0t7JrFw==\n",
      "url http://www.dailymail.co.uk/tvshowbiz/article-3976578/amp/Meghan-Markle-enjoys-cocktails-Quantico-star-Priyanka-Chopra-Prince-Harry-tours-Caribbean.html\n",
      "title Meghan Markle enjoys cocktails with Quantico's Priyanka Chopra while Prince Harry tours\n",
      "host dailymail.co.uk\n",
      "************************************\n",
      "Catched StopIteration in fetchone\n",
      "************************************\n"
     ]
    }
   ],
   "source": [
    "#rows = engine.execute(\"SELECT id,url FROM `NPLD-FC2017-20190228` WHERE (host:'theguardian.com' OR host:'independent.co.uk' OR host:'dailymail.co.uk' OR host:'express.co.uk' OR host:'thesun.co.uk' OR host:'mirror.co.uk' OR host:'dailystar.co.uk') AND ((title:meghan AND title:harry) OR (title:meghan AND title:markle)) LIMIT 1\")\n",
    "rows = engine.execute(\"SELECT id,url,title,host FROM `NPLD-FC2017-20190228` WHERE host = '(theguardian.com independent.co.uk dailymail.co.uk express.co.uk thesun.co.uk mirror.co.uk dailystar.co.uk)' AND ((title = 'meghan' AND title = 'markle') OR (title = 'meghan' AND title = 'harry')) ORDER BY crawl_date LIMIT 1\")\n",
    "\n",
    "for r in rows:\n",
    "    for column, value in r.items():\n",
    "        print(column, value)\n"
   ]
  },
  {
   "cell_type": "code",
   "execution_count": 27,
   "metadata": {},
   "outputs": [
    {
     "name": "stdout",
     "output_type": "stream",
     "text": [
      "************************************\n",
      "Query: SELECT id,url,title,host,crawl_date FROM `NPLD-FC2017-20190228` WHERE host = '(theguardian.com independent.co.uk dailymail.co.uk express.co.uk thesun.co.uk mirror.co.uk dailystar.co.uk)' AND ((title = 'meghan' AND title = 'markle') OR (title = 'meghan' AND title = 'harry')) ORDER BY crawl_date LIMIT 100000\n",
      "************************************\n"
     ]
    },
    {
     "data": {
      "text/html": [
       "<div>\n",
       "<style scoped>\n",
       "    .dataframe tbody tr th:only-of-type {\n",
       "        vertical-align: middle;\n",
       "    }\n",
       "\n",
       "    .dataframe tbody tr th {\n",
       "        vertical-align: top;\n",
       "    }\n",
       "\n",
       "    .dataframe thead th {\n",
       "        text-align: right;\n",
       "    }\n",
       "</style>\n",
       "<table border=\"1\" class=\"dataframe\">\n",
       "  <thead>\n",
       "    <tr style=\"text-align: right;\">\n",
       "      <th></th>\n",
       "      <th>id</th>\n",
       "      <th>url</th>\n",
       "      <th>title</th>\n",
       "      <th>host</th>\n",
       "      <th>crawl_date</th>\n",
       "    </tr>\n",
       "  </thead>\n",
       "  <tbody>\n",
       "    <tr>\n",
       "      <th>0</th>\n",
       "      <td>20170101102033/lhGw4C4wmG+0iFG0t7JrFw==</td>\n",
       "      <td>http://www.dailymail.co.uk/tvshowbiz/article-3...</td>\n",
       "      <td>Meghan Markle enjoys cocktails with Quantico's...</td>\n",
       "      <td>dailymail.co.uk</td>\n",
       "      <td>2017-01-01 10:20:33</td>\n",
       "    </tr>\n",
       "    <tr>\n",
       "      <th>1</th>\n",
       "      <td>20170101102049//M3a8PfNIu5zNH26wfStXA==</td>\n",
       "      <td>http://www.dailymail.co.uk/news/article-392542...</td>\n",
       "      <td>Prince Harry's girlfriend Meghan Markle spotte...</td>\n",
       "      <td>dailymail.co.uk</td>\n",
       "      <td>2017-01-01 10:20:49</td>\n",
       "    </tr>\n",
       "    <tr>\n",
       "      <th>2</th>\n",
       "      <td>20170101102057/Erluxdjjqr/jNL4hNzha4A==</td>\n",
       "      <td>http://www.dailymail.co.uk/news/article-402914...</td>\n",
       "      <td>Prince Harry and girlfriend Meghan Markle 'buy...</td>\n",
       "      <td>dailymail.co.uk</td>\n",
       "      <td>2017-01-01 10:20:57</td>\n",
       "    </tr>\n",
       "    <tr>\n",
       "      <th>3</th>\n",
       "      <td>20170101102101/z6CUHQC6PS+SWkzOnV6hLw==</td>\n",
       "      <td>http://www.dailymail.co.uk/news/article-402914...</td>\n",
       "      <td>Prince Harry and girlfriend Meghan Markle 'buy...</td>\n",
       "      <td>dailymail.co.uk</td>\n",
       "      <td>2017-01-01 10:21:01</td>\n",
       "    </tr>\n",
       "    <tr>\n",
       "      <th>4</th>\n",
       "      <td>20170101102123/Vs9UbyshtSk1D9ZNIyRFCA==</td>\n",
       "      <td>http://www.dailymail.co.uk/news/article-396227...</td>\n",
       "      <td>Prince Harry's girlfriend Meghan Markle says s...</td>\n",
       "      <td>dailymail.co.uk</td>\n",
       "      <td>2017-01-01 10:21:23</td>\n",
       "    </tr>\n",
       "    <tr>\n",
       "      <th>...</th>\n",
       "      <td>...</td>\n",
       "      <td>...</td>\n",
       "      <td>...</td>\n",
       "      <td>...</td>\n",
       "      <td>...</td>\n",
       "    </tr>\n",
       "    <tr>\n",
       "      <th>21051</th>\n",
       "      <td>20171227215813/rt9ttovXyXjBwGOzBKCWgg==</td>\n",
       "      <td>http://www.mirror.co.uk/news/uk-news/prince-ha...</td>\n",
       "      <td>Prince Harry WON'T take part in the traditiona...</td>\n",
       "      <td>mirror.co.uk</td>\n",
       "      <td>2017-12-27 21:58:13</td>\n",
       "    </tr>\n",
       "    <tr>\n",
       "      <th>21052</th>\n",
       "      <td>20171227215854/ZxKG1KVJAy95739ySnIbxg==</td>\n",
       "      <td>http://www.mirror.co.uk/3am/style/celebrity-fa...</td>\n",
       "      <td>Meghan Markle is Hollywood perfection in £56,0...</td>\n",
       "      <td>mirror.co.uk</td>\n",
       "      <td>2017-12-27 21:58:54</td>\n",
       "    </tr>\n",
       "    <tr>\n",
       "      <th>21053</th>\n",
       "      <td>20171227231231/V2VEliskxTDJbIqlCcsF7w==</td>\n",
       "      <td>http://www.mirror.co.uk/3am/celebrity-news/por...</td>\n",
       "      <td>Porn searches for Meghan Markle go through the...</td>\n",
       "      <td>mirror.co.uk</td>\n",
       "      <td>2017-12-27 23:12:31</td>\n",
       "    </tr>\n",
       "    <tr>\n",
       "      <th>21054</th>\n",
       "      <td>20171228022515/n/RUSr7G6FbUZuSljxsDew==</td>\n",
       "      <td>http://www.mirror.co.uk/news/uk-news/meghan-ma...</td>\n",
       "      <td>Prince Harry reveals Meghan Markle's first Chr...</td>\n",
       "      <td>mirror.co.uk</td>\n",
       "      <td>2017-12-28 02:25:15</td>\n",
       "    </tr>\n",
       "    <tr>\n",
       "      <th>21055</th>\n",
       "      <td>20171228051104/jhk46gtxkCF6PdKDcih6eA==</td>\n",
       "      <td>http://www.mirror.co.uk/3am/celebrity-news/pri...</td>\n",
       "      <td>When are Prince Harry and Meghan Markle gettin...</td>\n",
       "      <td>mirror.co.uk</td>\n",
       "      <td>2017-12-28 05:11:04</td>\n",
       "    </tr>\n",
       "  </tbody>\n",
       "</table>\n",
       "<p>21056 rows × 5 columns</p>\n",
       "</div>"
      ],
      "text/plain": [
       "                                            id  \\\n",
       "0      20170101102033/lhGw4C4wmG+0iFG0t7JrFw==   \n",
       "1      20170101102049//M3a8PfNIu5zNH26wfStXA==   \n",
       "2      20170101102057/Erluxdjjqr/jNL4hNzha4A==   \n",
       "3      20170101102101/z6CUHQC6PS+SWkzOnV6hLw==   \n",
       "4      20170101102123/Vs9UbyshtSk1D9ZNIyRFCA==   \n",
       "...                                        ...   \n",
       "21051  20171227215813/rt9ttovXyXjBwGOzBKCWgg==   \n",
       "21052  20171227215854/ZxKG1KVJAy95739ySnIbxg==   \n",
       "21053  20171227231231/V2VEliskxTDJbIqlCcsF7w==   \n",
       "21054  20171228022515/n/RUSr7G6FbUZuSljxsDew==   \n",
       "21055  20171228051104/jhk46gtxkCF6PdKDcih6eA==   \n",
       "\n",
       "                                                     url  \\\n",
       "0      http://www.dailymail.co.uk/tvshowbiz/article-3...   \n",
       "1      http://www.dailymail.co.uk/news/article-392542...   \n",
       "2      http://www.dailymail.co.uk/news/article-402914...   \n",
       "3      http://www.dailymail.co.uk/news/article-402914...   \n",
       "4      http://www.dailymail.co.uk/news/article-396227...   \n",
       "...                                                  ...   \n",
       "21051  http://www.mirror.co.uk/news/uk-news/prince-ha...   \n",
       "21052  http://www.mirror.co.uk/3am/style/celebrity-fa...   \n",
       "21053  http://www.mirror.co.uk/3am/celebrity-news/por...   \n",
       "21054  http://www.mirror.co.uk/news/uk-news/meghan-ma...   \n",
       "21055  http://www.mirror.co.uk/3am/celebrity-news/pri...   \n",
       "\n",
       "                                                   title             host  \\\n",
       "0      Meghan Markle enjoys cocktails with Quantico's...  dailymail.co.uk   \n",
       "1      Prince Harry's girlfriend Meghan Markle spotte...  dailymail.co.uk   \n",
       "2      Prince Harry and girlfriend Meghan Markle 'buy...  dailymail.co.uk   \n",
       "3      Prince Harry and girlfriend Meghan Markle 'buy...  dailymail.co.uk   \n",
       "4      Prince Harry's girlfriend Meghan Markle says s...  dailymail.co.uk   \n",
       "...                                                  ...              ...   \n",
       "21051  Prince Harry WON'T take part in the traditiona...     mirror.co.uk   \n",
       "21052  Meghan Markle is Hollywood perfection in £56,0...     mirror.co.uk   \n",
       "21053  Porn searches for Meghan Markle go through the...     mirror.co.uk   \n",
       "21054  Prince Harry reveals Meghan Markle's first Chr...     mirror.co.uk   \n",
       "21055  When are Prince Harry and Meghan Markle gettin...     mirror.co.uk   \n",
       "\n",
       "               crawl_date  \n",
       "0     2017-01-01 10:20:33  \n",
       "1     2017-01-01 10:20:49  \n",
       "2     2017-01-01 10:20:57  \n",
       "3     2017-01-01 10:21:01  \n",
       "4     2017-01-01 10:21:23  \n",
       "...                   ...  \n",
       "21051 2017-12-27 21:58:13  \n",
       "21052 2017-12-27 21:58:54  \n",
       "21053 2017-12-27 23:12:31  \n",
       "21054 2017-12-28 02:25:15  \n",
       "21055 2017-12-28 05:11:04  \n",
       "\n",
       "[21056 rows x 5 columns]"
      ]
     },
     "execution_count": 27,
     "metadata": {},
     "output_type": "execute_result"
    }
   ],
   "source": [
    "sql_df = pd.read_sql_query(\n",
    "    \"SELECT id,url,title,host,crawl_date FROM `NPLD-FC2017-20190228` WHERE host = '(theguardian.com independent.co.uk dailymail.co.uk express.co.uk thesun.co.uk mirror.co.uk dailystar.co.uk)' AND ((title = 'meghan' AND title = 'markle') OR (title = 'meghan' AND title = 'harry')) ORDER BY crawl_date LIMIT 100000\",\n",
    "    con=engine\n",
    ")\n",
    "\n",
    "sql_df"
   ]
  },
  {
   "cell_type": "code",
   "execution_count": null,
   "metadata": {},
   "outputs": [],
   "source": []
  },
  {
   "cell_type": "code",
   "execution_count": 50,
   "metadata": {},
   "outputs": [
    {
     "name": "stdout",
     "output_type": "stream",
     "text": [
      "Table: trackdb-20200402 Column: _root_\n",
      "Table: trackdb-20200402 Column: _version_\n",
      "Table: trackdb-20200402 Column: cdx_index_ss\n",
      "Table: trackdb-20200402 Column: cdx_records_checked_i\n",
      "Table: trackdb-20200402 Column: cdx_records_found_i\n",
      "Table: trackdb-20200402 Column: collection_s\n",
      "Table: trackdb-20200402 Column: file_ext_s\n",
      "Table: trackdb-20200402 Column: file_name_s\n",
      "Table: trackdb-20200402 Column: file_path_s\n",
      "Table: trackdb-20200402 Column: file_size_l\n",
      "Table: trackdb-20200402 Column: hdfs_group_s\n",
      "Table: trackdb-20200402 Column: hdfs_replicas_i\n",
      "Table: trackdb-20200402 Column: hdfs_user_s\n",
      "Table: trackdb-20200402 Column: id\n",
      "Table: trackdb-20200402 Column: job_s\n",
      "Table: trackdb-20200402 Column: kind_s\n",
      "Table: trackdb-20200402 Column: layout_s\n",
      "Table: trackdb-20200402 Column: modified_at_dt\n",
      "Table: trackdb-20200402 Column: permissions_s\n",
      "Table: trackdb-20200402 Column: recognised_b\n",
      "Table: trackdb-20200402 Column: refresh_date_dt\n",
      "Table: trackdb-20200402 Column: stream_s\n",
      "Table: trackdb-20200402 Column: timestamp_dt\n",
      "Table: trackdb-20200402 Column: year_i\n"
     ]
    }
   ],
   "source": [
    "import pandas as pd\n",
    "from sqlalchemy import create_engine\n",
    "\n",
    "# Solr 8, works fine:\n",
    "engine = create_engine('solr://solr8.api.wa.bl.uk:80/solr/tracking',echo=True)\n",
    "# Solr 6, this doesn't work:\n",
    "#engine = create_engine('solr://solr.api.wa.bl.uk:80/solr/NPLD-FC2017-20190228',echo=True)\n",
    "\n",
    "from sqlalchemy import inspect\n",
    "\n",
    "inspector = inspect(engine)\n",
    "\n",
    "for table_name in inspector.get_table_names():\n",
    "    for column in inspector.get_columns(table_name):\n",
    "        print(\"Table: %s Column: %s\" % (table_name, column['name']))\n"
   ]
  },
  {
   "cell_type": "code",
   "execution_count": 11,
   "metadata": {},
   "outputs": [
    {
     "name": "stdout",
     "output_type": "stream",
     "text": [
      "************************************\n",
      "Query: SELECT id,timestamp_dt FROM tracking WHERE kind_s = 'warcs' LIMIT 2\n",
      "************************************\n"
     ]
    },
    {
     "data": {
      "text/html": [
       "<div>\n",
       "<style scoped>\n",
       "    .dataframe tbody tr th:only-of-type {\n",
       "        vertical-align: middle;\n",
       "    }\n",
       "\n",
       "    .dataframe tbody tr th {\n",
       "        vertical-align: top;\n",
       "    }\n",
       "\n",
       "    .dataframe thead th {\n",
       "        text-align: right;\n",
       "    }\n",
       "</style>\n",
       "<table border=\"1\" class=\"dataframe\">\n",
       "  <thead>\n",
       "    <tr style=\"text-align: right;\">\n",
       "      <th></th>\n",
       "      <th>id</th>\n",
       "      <th>timestamp_dt</th>\n",
       "    </tr>\n",
       "  </thead>\n",
       "  <tbody>\n",
       "    <tr>\n",
       "      <th>0</th>\n",
       "      <td>hdfs://hdfs:54310/1_data/npld/webrecorder/bl-y...</td>\n",
       "      <td>2016-12-30 11:59:00</td>\n",
       "    </tr>\n",
       "    <tr>\n",
       "      <th>1</th>\n",
       "      <td>hdfs://hdfs:54310/1_data/npld/webrecorder/bl-y...</td>\n",
       "      <td>2016-12-30 11:59:00</td>\n",
       "    </tr>\n",
       "  </tbody>\n",
       "</table>\n",
       "</div>"
      ],
      "text/plain": [
       "                                                  id        timestamp_dt\n",
       "0  hdfs://hdfs:54310/1_data/npld/webrecorder/bl-y... 2016-12-30 11:59:00\n",
       "1  hdfs://hdfs:54310/1_data/npld/webrecorder/bl-y... 2016-12-30 11:59:00"
      ]
     },
     "execution_count": 11,
     "metadata": {},
     "output_type": "execute_result"
    }
   ],
   "source": [
    "#rows = engine.execute(\"SELECT * FROM tracking LIMIT 10\")\n",
    "\n",
    "# Note that SELECT * can get a bit wonky when requesting multiple documents, best to be explicit:\n",
    "sql_df = pd.read_sql_query(\n",
    "    \"SELECT id,timestamp_dt FROM tracking WHERE kind_s = 'warcs' LIMIT 2\",\n",
    "    con=engine\n",
    ")\n",
    "\n",
    "sql_df"
   ]
  },
  {
   "cell_type": "code",
   "execution_count": 76,
   "metadata": {},
   "outputs": [
    {
     "name": "stdout",
     "output_type": "stream",
     "text": [
      "2021-02-06 22:07:37,827 INFO sqlalchemy.engine.base.Engine SELECT url,`timestamp` FROM crawl_log_fc WHERE annotations = 'Q:serverMaxSuccessKb' LIMIT 2\n"
     ]
    },
    {
     "name": "stderr",
     "output_type": "stream",
     "text": [
      "2021-02-06 22:07:37,827 - SELECT url,`timestamp` FROM crawl_log_fc WHERE annotations = 'Q:serverMaxSuccessKb' LIMIT 2\n"
     ]
    },
    {
     "name": "stdout",
     "output_type": "stream",
     "text": [
      "2021-02-06 22:07:37,828 INFO sqlalchemy.engine.base.Engine ()\n"
     ]
    },
    {
     "name": "stderr",
     "output_type": "stream",
     "text": [
      "2021-02-06 22:07:37,828 - ()\n"
     ]
    },
    {
     "name": "stdout",
     "output_type": "stream",
     "text": [
      "************************************\n",
      "Query: SELECT url,`timestamp` FROM crawl_log_fc WHERE annotations = 'Q:serverMaxSuccessKb' LIMIT 2\n",
      "************************************\n"
     ]
    },
    {
     "data": {
      "text/html": [
       "<div>\n",
       "<style scoped>\n",
       "    .dataframe tbody tr th:only-of-type {\n",
       "        vertical-align: middle;\n",
       "    }\n",
       "\n",
       "    .dataframe tbody tr th {\n",
       "        vertical-align: top;\n",
       "    }\n",
       "\n",
       "    .dataframe thead th {\n",
       "        text-align: right;\n",
       "    }\n",
       "</style>\n",
       "<table border=\"1\" class=\"dataframe\">\n",
       "  <thead>\n",
       "    <tr style=\"text-align: right;\">\n",
       "      <th></th>\n",
       "      <th>url</th>\n",
       "      <th>timestamp</th>\n",
       "    </tr>\n",
       "  </thead>\n",
       "  <tbody>\n",
       "    <tr>\n",
       "      <th>0</th>\n",
       "      <td>https://i0.wp.com/www.theoffsideline.com/wp-co...</td>\n",
       "      <td>2021-01-28 16:25:08.791</td>\n",
       "    </tr>\n",
       "    <tr>\n",
       "      <th>1</th>\n",
       "      <td>https://fi.sportsdirect.com/under-armour/under...</td>\n",
       "      <td>2021-01-28 16:25:09.128</td>\n",
       "    </tr>\n",
       "  </tbody>\n",
       "</table>\n",
       "</div>"
      ],
      "text/plain": [
       "                                                 url               timestamp\n",
       "0  https://i0.wp.com/www.theoffsideline.com/wp-co... 2021-01-28 16:25:08.791\n",
       "1  https://fi.sportsdirect.com/under-armour/under... 2021-01-28 16:25:09.128"
      ]
     },
     "execution_count": 76,
     "metadata": {},
     "output_type": "execute_result"
    }
   ],
   "source": [
    "# Solr 8, works fine:\n",
    "engine = create_engine('solr://dev1.n45.wa.bl.uk:8913/solr/crawl_log_fc',echo=True)\n",
    "sql_df = pd.read_sql_query(\n",
    "    \"SELECT url,`timestamp` FROM crawl_log_fc WHERE annotations = 'Q:serverMaxSuccessKb' LIMIT 2\",\n",
    "    con=engine\n",
    ")\n",
    "\n",
    "sql_df"
   ]
  },
  {
   "cell_type": "code",
   "execution_count": null,
   "metadata": {},
   "outputs": [],
   "source": []
  }
 ],
 "metadata": {
  "kernelspec": {
   "display_name": "Python 3",
   "language": "python",
   "name": "python3"
  },
  "language_info": {
   "codemirror_mode": {
    "name": "ipython",
    "version": 3
   },
   "file_extension": ".py",
   "mimetype": "text/x-python",
   "name": "python",
   "nbconvert_exporter": "python",
   "pygments_lexer": "ipython3",
   "version": "3.7.3"
  }
 },
 "nbformat": 4,
 "nbformat_minor": 4
}
