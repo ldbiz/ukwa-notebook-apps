{
 "cells": [
  {
   "cell_type": "markdown",
   "metadata": {},
   "source": [
    "https://github.com/voila-dashboards/voila/issues/431"
   ]
  },
  {
   "cell_type": "code",
   "execution_count": 4,
   "metadata": {},
   "outputs": [
    {
     "data": {
      "text/plain": [
       "'Display in main thread'"
      ]
     },
     "metadata": {},
     "output_type": "display_data"
    },
    {
     "data": {
      "application/vnd.jupyter.widget-view+json": {
       "model_id": "7d34a76851f54904bf4aa2a2d16cdc87",
       "version_major": 2,
       "version_minor": 0
      },
      "text/plain": [
       "Output()"
      ]
     },
     "metadata": {},
     "output_type": "display_data"
    }
   ],
   "source": [
    "import threading\n",
    "from IPython.display import display, HTML\n",
    "import ipywidgets as widgets\n",
    "import time\n",
    "\n",
    "def thread_func(something, out):\n",
    "    for i in range(1, 5):\n",
    "        time.sleep(0.3)\n",
    "        out.clear_output()\n",
    "        out.append_stdout('{} {} {}\\n'.format(i, '**'*i, something))\n",
    "    out.append_display_data(HTML(\"<em>All done!</em>\"))\n",
    "\n",
    "display('Display in main thread')\n",
    "out = widgets.Output()\n",
    "# Now the key: the container is displayed (while empty) in the main thread\n",
    "display(out)\n",
    "\n",
    "thread = threading.Thread(\n",
    "    target=thread_func,\n",
    "    args=(\"some text\", out))\n",
    "thread.start()"
   ]
  },
  {
   "cell_type": "markdown",
   "metadata": {},
   "source": [
    "```\n",
    "import threading\n",
    "import os\n",
    "import requests\n",
    "import time\n",
    "import urllib.parse\n",
    "import datetime\n",
    "import ipywidgets as widgets\n",
    "from IPython.core.display import display, HTML, clear_output\n",
    "\n",
    "prefix = os.environ.get('API_PREFIX', 'http://192.168.45.91:90/intranet')\n",
    "\n",
    "def update_thread(text, out):\n",
    "    while True:\n",
    "        try:\n",
    "            r = requests.get(prefix + \"/api/stats/crawler/recent-activity\", timeout=5 )\n",
    "        except:\n",
    "            # Probably a time-out:\n",
    "            pass\n",
    "        if r.status_code == 200:\n",
    "            html = '<p>Updated at: %s</p><div>' % datetime.datetime.now()\n",
    "            #html += '<div style=\"position:absolute; background:#000; left:0; right:0; top:0; bottom:0; z-index:1000\">'\n",
    "            html += '<div>'\n",
    "            for ss in r.json()['screenshots']:\n",
    "                params = {'url': ss[0], 'target_date': ss[1]}\n",
    "                url = prefix + \"/api/screenshots/?\" + urllib.parse.urlencode(params)\n",
    "                html += '<a href=\"%s\" style=\"float: left;\"><img src=\"%s\" style=\"max-height:120px;\"/></a>' % (url,url)\n",
    "            html += '</div>'\n",
    "            out.clear_output()\n",
    "            out.append_display_data(HTML(html))\n",
    "        else:\n",
    "            out.clear_output()\n",
    "            out.append_display_data(HTML('ERROR at %s' % datetime.datetime.now()))\n",
    "\n",
    "        #out.clear_output(wait=True)\n",
    "        time.sleep(10)\n",
    "    \n",
    "out = widgets.Output()\n",
    "# Now the key: the container is displayed (while empty) in the main thread\n",
    "display(out)\n",
    "\n",
    "thread = threading.Thread(target=update_thread, args=(\"\", out))\n",
    "thread.start()\n",
    "```"
   ]
  },
  {
   "cell_type": "code",
   "execution_count": null,
   "metadata": {},
   "outputs": [],
   "source": []
  }
 ],
 "metadata": {
  "kernelspec": {
   "display_name": "Python 3",
   "language": "python",
   "name": "python3"
  },
  "language_info": {
   "codemirror_mode": {
    "name": "ipython",
    "version": 3
   },
   "file_extension": ".py",
   "mimetype": "text/x-python",
   "name": "python",
   "nbconvert_exporter": "python",
   "pygments_lexer": "ipython3",
   "version": "3.7.3"
  }
 },
 "nbformat": 4,
 "nbformat_minor": 2
}
