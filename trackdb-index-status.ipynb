{
 "cells": [
  {
   "cell_type": "markdown",
   "metadata": {},
   "source": [
    "# TrackDB Index Status"
   ]
  },
  {
   "cell_type": "code",
   "execution_count": 2,
   "metadata": {},
   "outputs": [
    {
     "name": "stdout",
     "output_type": "stream",
     "text": [
      "{'responseHeader': {'status': 0, 'QTime': 23, 'params': {'q': 'kind_s:warcs', 'facet.field': 'cdx_index_ss', 'facet': 'true'}}, 'response': {'numFound': 1083186, 'start': 0, 'docs': [{'id': 'anj-test', 'jam_s': 'spoon', 'test': ['test-cheese'], 'test_s': 'test', 'kind_s': 'warcs', 'cdx_index_ss': ['data-heritrix'], '_version_': 1662966652038283264}, {'id': 'hdfs://hdfs:54310/1_data/ethos/warcs/WARCPROX-20200403203122685-00001-mja43xl7.warc.gz\\n', 'stream_s': 'ethos', 'kind_s': 'warcs', '_version_': 1664257462016933888}, {'id': 'hdfs://hdfs:54310/1_data/ethos/warcs/WARCPROX-20200403203231681-00002-mja43xl7.warc.gz\\n', 'stream_s': 'ethos', 'kind_s': 'warcs', '_version_': 1664257462034759680}, {'id': 'hdfs://hdfs:54310/1_data/ethos/warcs/WARCPROX-20200403203014893-00000-mja43xl7.warc.gz\\n', 'stream_s': 'ethos', 'kind_s': 'warcs', '_version_': 1664257461989670912}, {'id': 'hdfs://hdfs:54310/1_data/ethos/warcs/WARCPROX-20200403210442204-00021-mja43xl7.warc.gz\\n', 'stream_s': 'ethos', 'kind_s': 'warcs', '_version_': 1664257462419587072}, {'id': 'hdfs://hdfs:54310/1_data/ethos/warcs/WARCPROX-20200403210606013-00022-mja43xl7.warc.gz\\n', 'stream_s': 'ethos', 'kind_s': 'warcs', '_version_': 1664257462440558592}, {'id': 'hdfs://hdfs:54310/1_data/ethos/warcs/WARCPROX-20200403210734442-00023-mja43xl7.warc.gz\\n', 'stream_s': 'ethos', 'kind_s': 'warcs', '_version_': 1664257462457335808}, {'id': 'hdfs://hdfs:54310/1_data/ethos/warcs/WARCPROX-20200403211124103-00024-mja43xl7.warc.gz\\n', 'stream_s': 'ethos', 'kind_s': 'warcs', '_version_': 1664257462472015872}, {'id': 'hdfs://hdfs:54310/1_data/ethos/warcs/WARCPROX-20200403211230029-00025-mja43xl7.warc.gz\\n', 'stream_s': 'ethos', 'kind_s': 'warcs', '_version_': 1664257462486695936}, {'id': 'hdfs://hdfs:54310/1_data/ethos/warcs/WARCPROX-20200403211335390-00026-mja43xl7.warc.gz\\n', 'stream_s': 'ethos', 'kind_s': 'warcs', '_version_': 1664257462502424576}]}, 'facet_counts': {'facet_queries': {}, 'facet_fields': {'cdx_index_ss': ['data-heritrix', 1001, 'test-collection_unverified', 500, 'test-collection', 200, 'test-collection|unverified', 200]}, 'facet_ranges': {}, 'facet_intervals': {}, 'facet_heatmaps': {}}}\n"
     ]
    }
   ],
   "source": [
    "import requests\n",
    "\n",
    "r = requests.get(\"http://trackdb.dapi.wa.bl.uk/solr/tracking/select?q=kind_s:warcs&facet=true&facet.field=cdx_index_ss\")\n",
    "\n",
    "print(r.json())\n"
   ]
  },
  {
   "cell_type": "code",
   "execution_count": 38,
   "metadata": {},
   "outputs": [
    {
     "name": "stdout",
     "output_type": "stream",
     "text": [
      "{'responseHeader': {'status': 0, 'QTime': 302, 'params': {'q': '*:*', 'json.facet': '{\"categories\": {\"type\": \"terms\", \"field\": \"kind_s\", \"limit\": 100}}', 'rows': '0'}}, 'response': {'numFound': 6007312, 'start': 0, 'docs': []}, 'facets': {'count': 6007312, 'categories': {'buckets': [{'val': 'unknown', 'count': 3350754}, {'val': 'warcs', 'count': 1083186}, {'val': 'documents', 'count': 392286}, {'val': 'to-be-deleted', 'count': 387082}, {'val': 'dlx', 'count': 313695}, {'val': 'logs', 'count': 248955}, {'val': 'cdx', 'count': 126382}, {'val': 'crawl-logs', 'count': 99470}, {'val': 'viral', 'count': 3861}, {'val': 'warcs-invalid', 'count': 202}, {'val': 'task', 'count': 6}]}}}\n"
     ]
    }
   ],
   "source": [
    "import json\n",
    "\n",
    "\n",
    "# Set up the JSON Facet query:\n",
    "jf = {\n",
    "    'categories' : {\n",
    "        'type' : 'terms',\n",
    "        'field' : 'kind_s',\n",
    "        'limit' : 100\n",
    "    }\n",
    "}\n",
    "\n",
    "# Compose the query parameters:\n",
    "q = {\n",
    "    'q': \"*:*\",\n",
    "    'rows': 0,\n",
    "    'json.facet': json.dumps(jf)\n",
    "}\n",
    "\n",
    "# Send the request:\n",
    "r = requests.post('http://trackdb.dapi.wa.bl.uk/solr/tracking/select', data=q)\n",
    "\n",
    "data = r.json()\n",
    "print(data)"
   ]
  },
  {
   "cell_type": "code",
   "execution_count": 39,
   "metadata": {},
   "outputs": [
    {
     "data": {
      "text/html": [
       "<div>\n",
       "<style scoped>\n",
       "    .dataframe tbody tr th:only-of-type {\n",
       "        vertical-align: middle;\n",
       "    }\n",
       "\n",
       "    .dataframe tbody tr th {\n",
       "        vertical-align: top;\n",
       "    }\n",
       "\n",
       "    .dataframe thead th {\n",
       "        text-align: right;\n",
       "    }\n",
       "</style>\n",
       "<table border=\"1\" class=\"dataframe\">\n",
       "  <thead>\n",
       "    <tr style=\"text-align: right;\">\n",
       "      <th></th>\n",
       "      <th>val</th>\n",
       "      <th>count</th>\n",
       "    </tr>\n",
       "  </thead>\n",
       "  <tbody>\n",
       "    <tr>\n",
       "      <th>0</th>\n",
       "      <td>unknown</td>\n",
       "      <td>3350754</td>\n",
       "    </tr>\n",
       "    <tr>\n",
       "      <th>1</th>\n",
       "      <td>warcs</td>\n",
       "      <td>1083186</td>\n",
       "    </tr>\n",
       "    <tr>\n",
       "      <th>2</th>\n",
       "      <td>documents</td>\n",
       "      <td>392286</td>\n",
       "    </tr>\n",
       "    <tr>\n",
       "      <th>3</th>\n",
       "      <td>to-be-deleted</td>\n",
       "      <td>387082</td>\n",
       "    </tr>\n",
       "    <tr>\n",
       "      <th>4</th>\n",
       "      <td>dlx</td>\n",
       "      <td>313695</td>\n",
       "    </tr>\n",
       "    <tr>\n",
       "      <th>5</th>\n",
       "      <td>logs</td>\n",
       "      <td>248955</td>\n",
       "    </tr>\n",
       "    <tr>\n",
       "      <th>6</th>\n",
       "      <td>cdx</td>\n",
       "      <td>126382</td>\n",
       "    </tr>\n",
       "    <tr>\n",
       "      <th>7</th>\n",
       "      <td>crawl-logs</td>\n",
       "      <td>99470</td>\n",
       "    </tr>\n",
       "    <tr>\n",
       "      <th>8</th>\n",
       "      <td>viral</td>\n",
       "      <td>3861</td>\n",
       "    </tr>\n",
       "    <tr>\n",
       "      <th>9</th>\n",
       "      <td>warcs-invalid</td>\n",
       "      <td>202</td>\n",
       "    </tr>\n",
       "    <tr>\n",
       "      <th>10</th>\n",
       "      <td>task</td>\n",
       "      <td>6</td>\n",
       "    </tr>\n",
       "  </tbody>\n",
       "</table>\n",
       "</div>"
      ],
      "text/plain": [
       "              val    count\n",
       "0         unknown  3350754\n",
       "1           warcs  1083186\n",
       "2       documents   392286\n",
       "3   to-be-deleted   387082\n",
       "4             dlx   313695\n",
       "5            logs   248955\n",
       "6             cdx   126382\n",
       "7      crawl-logs    99470\n",
       "8           viral     3861\n",
       "9   warcs-invalid      202\n",
       "10           task        6"
      ]
     },
     "execution_count": 39,
     "metadata": {},
     "output_type": "execute_result"
    }
   ],
   "source": [
    "import pandas as pd\n",
    "\n",
    "df = pd.DataFrame(data['facets']['categories']['buckets'])\n",
    "df"
   ]
  },
  {
   "cell_type": "code",
   "execution_count": 41,
   "metadata": {},
   "outputs": [
    {
     "data": {
      "text/html": [
       "\n",
       "<div id=\"altair-viz-f65e1bc5fc5a479a9651980da9e4d21e\"></div>\n",
       "<script type=\"text/javascript\">\n",
       "  (function(spec, embedOpt){\n",
       "    let outputDiv = document.currentScript.previousElementSibling;\n",
       "    if (outputDiv.id !== \"altair-viz-f65e1bc5fc5a479a9651980da9e4d21e\") {\n",
       "      outputDiv = document.getElementById(\"altair-viz-f65e1bc5fc5a479a9651980da9e4d21e\");\n",
       "    }\n",
       "    const paths = {\n",
       "      \"vega\": \"https://cdn.jsdelivr.net/npm//vega@5?noext\",\n",
       "      \"vega-lib\": \"https://cdn.jsdelivr.net/npm//vega-lib?noext\",\n",
       "      \"vega-lite\": \"https://cdn.jsdelivr.net/npm//vega-lite@4.8.1?noext\",\n",
       "      \"vega-embed\": \"https://cdn.jsdelivr.net/npm//vega-embed@6?noext\",\n",
       "    };\n",
       "\n",
       "    function loadScript(lib) {\n",
       "      return new Promise(function(resolve, reject) {\n",
       "        var s = document.createElement('script');\n",
       "        s.src = paths[lib];\n",
       "        s.async = true;\n",
       "        s.onload = () => resolve(paths[lib]);\n",
       "        s.onerror = () => reject(`Error loading script: ${paths[lib]}`);\n",
       "        document.getElementsByTagName(\"head\")[0].appendChild(s);\n",
       "      });\n",
       "    }\n",
       "\n",
       "    function showError(err) {\n",
       "      outputDiv.innerHTML = `<div class=\"error\" style=\"color:red;\">${err}</div>`;\n",
       "      throw err;\n",
       "    }\n",
       "\n",
       "    function displayChart(vegaEmbed) {\n",
       "      vegaEmbed(outputDiv, spec, embedOpt)\n",
       "        .catch(err => showError(`Javascript Error: ${err.message}<br>This usually means there's a typo in your chart specification. See the javascript console for the full traceback.`));\n",
       "    }\n",
       "\n",
       "    if(typeof define === \"function\" && define.amd) {\n",
       "      requirejs.config({paths});\n",
       "      require([\"vega-embed\"], displayChart, err => showError(`Error loading script: ${err.message}`));\n",
       "    } else if (typeof vegaEmbed === \"function\") {\n",
       "      displayChart(vegaEmbed);\n",
       "    } else {\n",
       "      loadScript(\"vega\")\n",
       "        .then(() => loadScript(\"vega-lite\"))\n",
       "        .then(() => loadScript(\"vega-embed\"))\n",
       "        .catch(showError)\n",
       "        .then(() => displayChart(vegaEmbed));\n",
       "    }\n",
       "  })({\"config\": {\"view\": {\"continuousWidth\": 400, \"continuousHeight\": 300}}, \"data\": {\"name\": \"data-8e9e94d93b6c68e4ab43255daf4b1796\"}, \"mark\": \"bar\", \"encoding\": {\"tooltip\": [{\"type\": \"nominal\", \"field\": \"val\"}, {\"type\": \"quantitative\", \"field\": \"count\"}], \"x\": {\"type\": \"quantitative\", \"field\": \"count\"}, \"y\": {\"type\": \"nominal\", \"field\": \"val\"}}, \"selection\": {\"selector004\": {\"type\": \"interval\", \"bind\": \"scales\", \"encodings\": [\"x\", \"y\"]}}, \"$schema\": \"https://vega.github.io/schema/vega-lite/v4.8.1.json\", \"datasets\": {\"data-8e9e94d93b6c68e4ab43255daf4b1796\": [{\"val\": \"unknown\", \"count\": 3350754}, {\"val\": \"warcs\", \"count\": 1083186}, {\"val\": \"documents\", \"count\": 392286}, {\"val\": \"to-be-deleted\", \"count\": 387082}, {\"val\": \"dlx\", \"count\": 313695}, {\"val\": \"logs\", \"count\": 248955}, {\"val\": \"cdx\", \"count\": 126382}, {\"val\": \"crawl-logs\", \"count\": 99470}, {\"val\": \"viral\", \"count\": 3861}, {\"val\": \"warcs-invalid\", \"count\": 202}, {\"val\": \"task\", \"count\": 6}]}}, {\"mode\": \"vega-lite\"});\n",
       "</script>"
      ],
      "text/plain": [
       "alt.Chart(...)"
      ]
     },
     "execution_count": 41,
     "metadata": {},
     "output_type": "execute_result"
    }
   ],
   "source": [
    "import altair as alt\n",
    "\n",
    "alt.Chart(df).mark_bar().encode(\n",
    "    x='count',\n",
    "    y='val',\n",
    "    tooltip=['val', 'count']\n",
    ").interactive()"
   ]
  },
  {
   "cell_type": "code",
   "execution_count": null,
   "metadata": {},
   "outputs": [],
   "source": []
  }
 ],
 "metadata": {
  "kernelspec": {
   "display_name": "Python 3",
   "language": "python",
   "name": "python3"
  },
  "language_info": {
   "codemirror_mode": {
    "name": "ipython",
    "version": 3
   },
   "file_extension": ".py",
   "mimetype": "text/x-python",
   "name": "python",
   "nbconvert_exporter": "python",
   "pygments_lexer": "ipython3",
   "version": "3.7.3"
  }
 },
 "nbformat": 4,
 "nbformat_minor": 4
}
