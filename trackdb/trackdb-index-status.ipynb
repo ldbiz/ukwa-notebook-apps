{
 "cells": [
  {
   "cell_type": "markdown",
   "metadata": {},
   "source": [
    "# TrackDB Index Status"
   ]
  },
  {
   "cell_type": "code",
   "execution_count": 2,
   "metadata": {},
   "outputs": [
    {
     "name": "stdout",
     "output_type": "stream",
     "text": [
      "{'responseHeader': {'zkConnected': True, 'status': 0, 'QTime': 194, 'params': {'q': 'kind_s:warcs', 'facet.field': 'cdx_index_ss', 'facet': 'true'}}, 'response': {'numFound': 1400737, 'start': 0, 'docs': [{'id': 'hdfs://hdfs:54310/data/99604/255131998/WARCS/BL-255131998-20141004220130-00000-safari.bl.uk.warc.gz', 'file_name_s': 'BL-255131998-20141004220130-00000-safari.bl.uk.warc.gz', 'hdfs_user_s': 'rcoram', 'stream_s': 'selective', 'file_path_s': '/data/99604/255131998/WARCS/BL-255131998-20141004220130-00000-safari.bl.uk.warc.gz', 'year_i': 2014, 'modified_at_dt': '2014-10-11T01:31:00Z', 'recognised_b': True, 'file_size_l': 42590844, 'hdfs_group_s': 'supergroup', 'collection_s': 'selective', 'layout_s': 'wct', 'hdfs_replicas_i': 3, 'job_s': '99604', 'kind_s': 'warcs', 'timestamp_dt': '2014-10-11T01:31:00Z', 'file_ext_s': '.bl.uk.warc.gz', 'refresh_date_dt': '2023-01-20T00:20:33.971Z', 'permissions_s': '-rw-r--r--', 'hdfs_service_id_s': 'h020', 'hdfs_type_s': 'file', 'access_url_s': 'http://hdfs.api.wa.bl.uk/webhdfs/v1/data/99604/255131998/WARCS/BL-255131998-20141004220130-00000-safari.bl.uk.warc.gz?op=OPEN&user.name=access', '_version_': 1755501255748222978}, {'id': 'hdfs://hdfs:54310/data/99604/265880202/WARCS/BL-265880202-20150104230029-00000-safari.bl.uk.warc.gz', 'file_name_s': 'BL-265880202-20150104230029-00000-safari.bl.uk.warc.gz', 'hdfs_user_s': 'rcoram', 'stream_s': 'selective', 'file_path_s': '/data/99604/265880202/WARCS/BL-265880202-20150104230029-00000-safari.bl.uk.warc.gz', 'year_i': 2015, 'modified_at_dt': '2015-01-10T05:41:00Z', 'recognised_b': True, 'file_size_l': 48377836, 'hdfs_group_s': 'supergroup', 'collection_s': 'selective', 'layout_s': 'wct', 'hdfs_replicas_i': 3, 'job_s': '99604', 'kind_s': 'warcs', 'timestamp_dt': '2015-01-10T05:41:00Z', 'file_ext_s': '.bl.uk.warc.gz', 'refresh_date_dt': '2023-01-20T00:20:33.971Z', 'permissions_s': '-rw-r--r--', 'hdfs_service_id_s': 'h020', 'hdfs_type_s': 'file', 'access_url_s': 'http://hdfs.api.wa.bl.uk/webhdfs/v1/data/99604/265880202/WARCS/BL-265880202-20150104230029-00000-safari.bl.uk.warc.gz?op=OPEN&user.name=access', '_version_': 1755501255753465860}, {'id': 'hdfs://hdfs:54310/data/99604/27951513/WARCS/BL-27951513-0.warc.gz', 'file_name_s': 'BL-27951513-0.warc.gz', 'hdfs_user_s': 'rcoram', 'stream_s': 'selective', 'file_path_s': '/data/99604/27951513/WARCS/BL-27951513-0.warc.gz', 'year_i': 2011, 'modified_at_dt': '2011-03-13T00:45:00Z', 'recognised_b': True, 'file_size_l': 96318, 'hdfs_group_s': 'supergroup', 'collection_s': 'selective', 'layout_s': 'wct', 'hdfs_replicas_i': 3, 'job_s': '99604', 'kind_s': 'warcs', 'timestamp_dt': '2011-03-13T00:45:00Z', 'file_ext_s': '.warc.gz', 'refresh_date_dt': '2023-01-20T00:20:33.971Z', 'permissions_s': '-rw-r--r--', 'cdx_records_checked_i': 1, 'cdx_index_ss': ['data-heritrix'], 'cdx_records_found_i': 1, 'hdfs_service_id_s': 'h020', 'hdfs_type_s': 'file', 'access_url_s': 'http://hdfs.api.wa.bl.uk/webhdfs/v1/data/99604/27951513/WARCS/BL-27951513-0.warc.gz?op=OPEN&user.name=access', '_version_': 1755501255777583110}, {'id': 'hdfs://hdfs:54310/data/99604/27951513/WARCS/BL-27951513-1.warc.gz', 'file_name_s': 'BL-27951513-1.warc.gz', 'hdfs_user_s': 'rcoram', 'stream_s': 'selective', 'file_path_s': '/data/99604/27951513/WARCS/BL-27951513-1.warc.gz', 'year_i': 2011, 'modified_at_dt': '2011-03-13T00:45:00Z', 'recognised_b': True, 'file_size_l': 4887607, 'hdfs_group_s': 'supergroup', 'collection_s': 'selective', 'layout_s': 'wct', 'hdfs_replicas_i': 3, 'job_s': '99604', 'kind_s': 'warcs', 'timestamp_dt': '2011-03-13T00:45:00Z', 'file_ext_s': '.warc.gz', 'refresh_date_dt': '2023-01-20T00:20:33.971Z', 'permissions_s': '-rw-r--r--', 'cdx_records_checked_i': 1, 'cdx_index_ss': ['data-heritrix'], 'cdx_records_found_i': 1, 'hdfs_service_id_s': 'h020', 'hdfs_type_s': 'file', 'access_url_s': 'http://hdfs.api.wa.bl.uk/webhdfs/v1/data/99604/27951513/WARCS/BL-27951513-1.warc.gz?op=OPEN&user.name=access', '_version_': 1755501255778631681}, {'id': 'hdfs://hdfs:54310/data/99604/285475263/WARCS/BL-285475263-20150405011112-00000-safari.bl.uk.warc.gz', 'file_name_s': 'BL-285475263-20150405011112-00000-safari.bl.uk.warc.gz', 'hdfs_user_s': 'rcoram', 'stream_s': 'selective', 'file_path_s': '/data/99604/285475263/WARCS/BL-285475263-20150405011112-00000-safari.bl.uk.warc.gz', 'year_i': 2015, 'modified_at_dt': '2015-04-10T20:51:00Z', 'recognised_b': True, 'file_size_l': 48857619, 'hdfs_group_s': 'supergroup', 'collection_s': 'selective', 'layout_s': 'wct', 'hdfs_replicas_i': 3, 'job_s': '99604', 'kind_s': 'warcs', 'timestamp_dt': '2015-04-10T20:51:00Z', 'file_ext_s': '.bl.uk.warc.gz', 'refresh_date_dt': '2023-01-20T00:20:33.971Z', 'permissions_s': '-rw-r--r--', 'hdfs_service_id_s': 'h020', 'hdfs_type_s': 'file', 'access_url_s': 'http://hdfs.api.wa.bl.uk/webhdfs/v1/data/99604/285475263/WARCS/BL-285475263-20150405011112-00000-safari.bl.uk.warc.gz?op=OPEN&user.name=access', '_version_': 1755501255780728835}, {'id': 'hdfs://hdfs:54310/data/99604/31064675/WARCS/BL-31064675-0.warc.gz', 'file_name_s': 'BL-31064675-0.warc.gz', 'hdfs_user_s': 'rcoram', 'stream_s': 'selective', 'file_path_s': '/data/99604/31064675/WARCS/BL-31064675-0.warc.gz', 'year_i': 2011, 'modified_at_dt': '2011-03-13T00:45:00Z', 'recognised_b': True, 'file_size_l': 585867, 'hdfs_group_s': 'supergroup', 'collection_s': 'selective', 'layout_s': 'wct', 'hdfs_replicas_i': 3, 'job_s': '99604', 'kind_s': 'warcs', 'timestamp_dt': '2011-03-13T00:45:00Z', 'file_ext_s': '.warc.gz', 'refresh_date_dt': '2023-01-20T00:20:33.971Z', 'permissions_s': '-rw-r--r--', 'cdx_records_checked_i': 1, 'cdx_index_ss': ['data-heritrix'], 'cdx_records_found_i': 1, 'hdfs_service_id_s': 'h020', 'hdfs_type_s': 'file', 'access_url_s': 'http://hdfs.api.wa.bl.uk/webhdfs/v1/data/99604/31064675/WARCS/BL-31064675-0.warc.gz?op=OPEN&user.name=access', '_version_': 1755501255784923140}, {'id': 'hdfs://hdfs:54310/data/99604/320602352/WARCS/BL-320602352-20151010205954-00000-safari.bl.uk.warc.gz', 'file_name_s': 'BL-320602352-20151010205954-00000-safari.bl.uk.warc.gz', 'hdfs_user_s': 'rcoram', 'stream_s': 'selective', 'file_path_s': '/data/99604/320602352/WARCS/BL-320602352-20151010205954-00000-safari.bl.uk.warc.gz', 'year_i': 2015, 'modified_at_dt': '2015-10-16T22:25:00Z', 'recognised_b': True, 'file_size_l': 59988558, 'hdfs_group_s': 'supergroup', 'collection_s': 'selective', 'layout_s': 'wct', 'hdfs_replicas_i': 3, 'job_s': '99604', 'kind_s': 'warcs', 'timestamp_dt': '2015-10-16T22:25:00Z', 'file_ext_s': '.bl.uk.warc.gz', 'refresh_date_dt': '2023-01-20T00:20:33.971Z', 'permissions_s': '-rw-r--r--', 'hdfs_service_id_s': 'h020', 'hdfs_type_s': 'file', 'access_url_s': 'http://hdfs.api.wa.bl.uk/webhdfs/v1/data/99604/320602352/WARCS/BL-320602352-20151010205954-00000-safari.bl.uk.warc.gz?op=OPEN&user.name=access', '_version_': 1755501255790166021}, {'id': 'hdfs://hdfs:54310/data/99604/324568774/WARCS/BL-324568774-20160104230018-00000-safari.bl.uk.warc.gz', 'file_name_s': 'BL-324568774-20160104230018-00000-safari.bl.uk.warc.gz', 'hdfs_user_s': 'rcoram', 'stream_s': 'selective', 'file_path_s': '/data/99604/324568774/WARCS/BL-324568774-20160104230018-00000-safari.bl.uk.warc.gz', 'year_i': 2016, 'modified_at_dt': '2016-01-17T19:38:00Z', 'recognised_b': True, 'file_size_l': 62152580, 'hdfs_group_s': 'supergroup', 'collection_s': 'selective', 'layout_s': 'wct', 'hdfs_replicas_i': 3, 'job_s': '99604', 'kind_s': 'warcs', 'timestamp_dt': '2016-01-17T19:38:00Z', 'file_ext_s': '.bl.uk.warc.gz', 'refresh_date_dt': '2023-01-20T00:20:33.971Z', 'permissions_s': '-rw-r--r--', 'hdfs_service_id_s': 'h020', 'hdfs_type_s': 'file', 'access_url_s': 'http://hdfs.api.wa.bl.uk/webhdfs/v1/data/99604/324568774/WARCS/BL-324568774-20160104230018-00000-safari.bl.uk.warc.gz?op=OPEN&user.name=access', '_version_': 1755501255792263173}, {'id': 'hdfs://hdfs:54310/data/99604/33063261/WARCS/BL-33063261-0.warc.gz', 'file_name_s': 'BL-33063261-0.warc.gz', 'hdfs_user_s': 'rcoram', 'stream_s': 'selective', 'file_path_s': '/data/99604/33063261/WARCS/BL-33063261-0.warc.gz', 'year_i': 2011, 'modified_at_dt': '2011-03-13T00:46:00Z', 'recognised_b': True, 'file_size_l': 4757664, 'hdfs_group_s': 'supergroup', 'collection_s': 'selective', 'layout_s': 'wct', 'hdfs_replicas_i': 3, 'job_s': '99604', 'kind_s': 'warcs', 'timestamp_dt': '2011-03-13T00:46:00Z', 'file_ext_s': '.warc.gz', 'refresh_date_dt': '2023-01-20T00:20:33.971Z', 'permissions_s': '-rw-r--r--', 'cdx_records_checked_i': 1, 'cdx_index_ss': ['data-heritrix'], 'cdx_records_found_i': 1, 'hdfs_service_id_s': 'h020', 'hdfs_type_s': 'file', 'access_url_s': 'http://hdfs.api.wa.bl.uk/webhdfs/v1/data/99604/33063261/WARCS/BL-33063261-0.warc.gz?op=OPEN&user.name=access', '_version_': 1755501255794360324}, {'id': 'hdfs://hdfs:54310/data/99604/55346505/WARCS/BL-55346505-0.warc.gz', 'file_name_s': 'BL-55346505-0.warc.gz', 'hdfs_user_s': 'rcoram', 'stream_s': 'selective', 'file_path_s': '/data/99604/55346505/WARCS/BL-55346505-0.warc.gz', 'year_i': 2011, 'modified_at_dt': '2011-03-13T00:46:00Z', 'recognised_b': True, 'file_size_l': 5729324, 'hdfs_group_s': 'supergroup', 'collection_s': 'selective', 'layout_s': 'wct', 'hdfs_replicas_i': 3, 'job_s': '99604', 'kind_s': 'warcs', 'timestamp_dt': '2011-03-13T00:46:00Z', 'file_ext_s': '.warc.gz', 'refresh_date_dt': '2023-01-20T00:20:33.971Z', 'permissions_s': '-rw-r--r--', 'cdx_records_checked_i': 2, 'cdx_index_ss': ['data-heritrix'], 'cdx_records_found_i': 2, 'hdfs_service_id_s': 'h020', 'hdfs_type_s': 'file', 'access_url_s': 'http://hdfs.api.wa.bl.uk/webhdfs/v1/data/99604/55346505/WARCS/BL-55346505-0.warc.gz?op=OPEN&user.name=access', '_version_': 1755501255798554624}]}, 'facet_counts': {'facet_queries': {}, 'facet_fields': {'cdx_index_ss': ['data-heritrix', 1122983, 'skipped', 45]}, 'facet_ranges': {}, 'facet_intervals': {}, 'facet_heatmaps': {}}}\n"
     ]
    }
   ],
   "source": [
    "import requests\n",
    "\n",
    "r = requests.get(\"http://solr8.api.wa.bl.uk/solr/tracking/select?q=kind_s:warcs&facet=true&facet.field=cdx_index_ss\")\n",
    "\n",
    "print(r.json())\n"
   ]
  },
  {
   "cell_type": "code",
   "execution_count": 4,
   "metadata": {},
   "outputs": [
    {
     "name": "stdout",
     "output_type": "stream",
     "text": [
      "{'responseHeader': {'zkConnected': True, 'status': 0, 'QTime': 526, 'params': {'q': '*:*', 'json.facet': '{\"categories\": {\"type\": \"terms\", \"field\": \"kind_s\", \"limit\": 100}}', 'rows': '0'}}, 'response': {'numFound': 11647232, 'start': 0, 'docs': []}, 'facets': {'count': 11647232, 'categories': {'buckets': [{'val': 'unknown', 'count': 9064407}, {'val': 'warcs', 'count': 1400737}, {'val': 'to-be-deleted', 'count': 387082}, {'val': 'dlx', 'count': 313695}, {'val': 'logs', 'count': 248955}, {'val': 'cdx', 'count': 126382}, {'val': 'crawl-logs', 'count': 101637}, {'val': 'viral', 'count': 4102}, {'val': 'warcs-invalid', 'count': 234}]}}}\n"
     ]
    }
   ],
   "source": [
    "import json\n",
    "\n",
    "\n",
    "# Set up the JSON Facet query:\n",
    "jf = {\n",
    "    'categories' : {\n",
    "        'type' : 'terms',\n",
    "        'field' : 'kind_s',\n",
    "        'limit' : 100\n",
    "    }\n",
    "}\n",
    "\n",
    "# Compose the query parameters:\n",
    "q = {\n",
    "    'q': \"*:*\",\n",
    "    'rows': 0,\n",
    "    'json.facet': json.dumps(jf)\n",
    "}\n",
    "\n",
    "# Send the request:\n",
    "r = requests.post('http://solr8.api.wa.bl.uk/solr/tracking/select', data=q)\n",
    "\n",
    "data = r.json()\n",
    "print(data)"
   ]
  },
  {
   "cell_type": "code",
   "execution_count": 5,
   "metadata": {},
   "outputs": [
    {
     "data": {
      "text/html": [
       "<div>\n",
       "<style scoped>\n",
       "    .dataframe tbody tr th:only-of-type {\n",
       "        vertical-align: middle;\n",
       "    }\n",
       "\n",
       "    .dataframe tbody tr th {\n",
       "        vertical-align: top;\n",
       "    }\n",
       "\n",
       "    .dataframe thead th {\n",
       "        text-align: right;\n",
       "    }\n",
       "</style>\n",
       "<table border=\"1\" class=\"dataframe\">\n",
       "  <thead>\n",
       "    <tr style=\"text-align: right;\">\n",
       "      <th></th>\n",
       "      <th>val</th>\n",
       "      <th>count</th>\n",
       "    </tr>\n",
       "  </thead>\n",
       "  <tbody>\n",
       "    <tr>\n",
       "      <th>0</th>\n",
       "      <td>unknown</td>\n",
       "      <td>9064407</td>\n",
       "    </tr>\n",
       "    <tr>\n",
       "      <th>1</th>\n",
       "      <td>warcs</td>\n",
       "      <td>1400737</td>\n",
       "    </tr>\n",
       "    <tr>\n",
       "      <th>2</th>\n",
       "      <td>to-be-deleted</td>\n",
       "      <td>387082</td>\n",
       "    </tr>\n",
       "    <tr>\n",
       "      <th>3</th>\n",
       "      <td>dlx</td>\n",
       "      <td>313695</td>\n",
       "    </tr>\n",
       "    <tr>\n",
       "      <th>4</th>\n",
       "      <td>logs</td>\n",
       "      <td>248955</td>\n",
       "    </tr>\n",
       "    <tr>\n",
       "      <th>5</th>\n",
       "      <td>cdx</td>\n",
       "      <td>126382</td>\n",
       "    </tr>\n",
       "    <tr>\n",
       "      <th>6</th>\n",
       "      <td>crawl-logs</td>\n",
       "      <td>101637</td>\n",
       "    </tr>\n",
       "    <tr>\n",
       "      <th>7</th>\n",
       "      <td>viral</td>\n",
       "      <td>4102</td>\n",
       "    </tr>\n",
       "    <tr>\n",
       "      <th>8</th>\n",
       "      <td>warcs-invalid</td>\n",
       "      <td>234</td>\n",
       "    </tr>\n",
       "  </tbody>\n",
       "</table>\n",
       "</div>"
      ],
      "text/plain": [
       "             val    count\n",
       "0        unknown  9064407\n",
       "1          warcs  1400737\n",
       "2  to-be-deleted   387082\n",
       "3            dlx   313695\n",
       "4           logs   248955\n",
       "5            cdx   126382\n",
       "6     crawl-logs   101637\n",
       "7          viral     4102\n",
       "8  warcs-invalid      234"
      ]
     },
     "execution_count": 5,
     "metadata": {},
     "output_type": "execute_result"
    }
   ],
   "source": [
    "import pandas as pd\n",
    "\n",
    "df = pd.DataFrame(data['facets']['categories']['buckets'])\n",
    "df"
   ]
  },
  {
   "cell_type": "code",
   "execution_count": 6,
   "metadata": {},
   "outputs": [
    {
     "data": {
      "text/html": [
       "\n",
       "<div id=\"altair-viz-74bc1c7eb11f44daaf55c563abafb0cd\"></div>\n",
       "<script type=\"text/javascript\">\n",
       "  (function(spec, embedOpt){\n",
       "    let outputDiv = document.currentScript.previousElementSibling;\n",
       "    if (outputDiv.id !== \"altair-viz-74bc1c7eb11f44daaf55c563abafb0cd\") {\n",
       "      outputDiv = document.getElementById(\"altair-viz-74bc1c7eb11f44daaf55c563abafb0cd\");\n",
       "    }\n",
       "    const paths = {\n",
       "      \"vega\": \"https://cdn.jsdelivr.net/npm//vega@5?noext\",\n",
       "      \"vega-lib\": \"https://cdn.jsdelivr.net/npm//vega-lib?noext\",\n",
       "      \"vega-lite\": \"https://cdn.jsdelivr.net/npm//vega-lite@4.8.1?noext\",\n",
       "      \"vega-embed\": \"https://cdn.jsdelivr.net/npm//vega-embed@6?noext\",\n",
       "    };\n",
       "\n",
       "    function loadScript(lib) {\n",
       "      return new Promise(function(resolve, reject) {\n",
       "        var s = document.createElement('script');\n",
       "        s.src = paths[lib];\n",
       "        s.async = true;\n",
       "        s.onload = () => resolve(paths[lib]);\n",
       "        s.onerror = () => reject(`Error loading script: ${paths[lib]}`);\n",
       "        document.getElementsByTagName(\"head\")[0].appendChild(s);\n",
       "      });\n",
       "    }\n",
       "\n",
       "    function showError(err) {\n",
       "      outputDiv.innerHTML = `<div class=\"error\" style=\"color:red;\">${err}</div>`;\n",
       "      throw err;\n",
       "    }\n",
       "\n",
       "    function displayChart(vegaEmbed) {\n",
       "      vegaEmbed(outputDiv, spec, embedOpt)\n",
       "        .catch(err => showError(`Javascript Error: ${err.message}<br>This usually means there's a typo in your chart specification. See the javascript console for the full traceback.`));\n",
       "    }\n",
       "\n",
       "    if(typeof define === \"function\" && define.amd) {\n",
       "      requirejs.config({paths});\n",
       "      require([\"vega-embed\"], displayChart, err => showError(`Error loading script: ${err.message}`));\n",
       "    } else if (typeof vegaEmbed === \"function\") {\n",
       "      displayChart(vegaEmbed);\n",
       "    } else {\n",
       "      loadScript(\"vega\")\n",
       "        .then(() => loadScript(\"vega-lite\"))\n",
       "        .then(() => loadScript(\"vega-embed\"))\n",
       "        .catch(showError)\n",
       "        .then(() => displayChart(vegaEmbed));\n",
       "    }\n",
       "  })({\"config\": {\"view\": {\"continuousWidth\": 400, \"continuousHeight\": 300}}, \"data\": {\"name\": \"data-9846c70d9d32d70a4f4adb8017900755\"}, \"mark\": \"bar\", \"encoding\": {\"tooltip\": [{\"type\": \"nominal\", \"field\": \"val\"}, {\"type\": \"quantitative\", \"field\": \"count\"}], \"x\": {\"type\": \"quantitative\", \"field\": \"count\"}, \"y\": {\"type\": \"nominal\", \"field\": \"val\"}}, \"selection\": {\"selector001\": {\"type\": \"interval\", \"bind\": \"scales\", \"encodings\": [\"x\", \"y\"]}}, \"$schema\": \"https://vega.github.io/schema/vega-lite/v4.8.1.json\", \"datasets\": {\"data-9846c70d9d32d70a4f4adb8017900755\": [{\"val\": \"unknown\", \"count\": 9064407}, {\"val\": \"warcs\", \"count\": 1400737}, {\"val\": \"to-be-deleted\", \"count\": 387082}, {\"val\": \"dlx\", \"count\": 313695}, {\"val\": \"logs\", \"count\": 248955}, {\"val\": \"cdx\", \"count\": 126382}, {\"val\": \"crawl-logs\", \"count\": 101637}, {\"val\": \"viral\", \"count\": 4102}, {\"val\": \"warcs-invalid\", \"count\": 234}]}}, {\"mode\": \"vega-lite\"});\n",
       "</script>"
      ],
      "text/plain": [
       "alt.Chart(...)"
      ]
     },
     "execution_count": 6,
     "metadata": {},
     "output_type": "execute_result"
    }
   ],
   "source": [
    "import altair as alt\n",
    "\n",
    "alt.Chart(df).mark_bar().encode(\n",
    "    x='count',\n",
    "    y='val',\n",
    "    tooltip=['val', 'count']\n",
    ").interactive()"
   ]
  },
  {
   "cell_type": "code",
   "execution_count": null,
   "metadata": {},
   "outputs": [],
   "source": []
  }
 ],
 "metadata": {
  "kernelspec": {
   "display_name": "Python 3",
   "language": "python",
   "name": "python3"
  },
  "language_info": {
   "codemirror_mode": {
    "name": "ipython",
    "version": 3
   },
   "file_extension": ".py",
   "mimetype": "text/x-python",
   "name": "python",
   "nbconvert_exporter": "python",
   "pygments_lexer": "ipython3",
   "version": "3.7.3"
  }
 },
 "nbformat": 4,
 "nbformat_minor": 4
}
